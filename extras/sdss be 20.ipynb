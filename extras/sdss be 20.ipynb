{
 "cells": [
  {
   "cell_type": "code",
   "execution_count": null,
   "metadata": {},
   "outputs": [],
   "source": [
    "from astroquery.sdss import SDSS\n",
    "import astropy.units as u"
   ]
  },
  {
   "cell_type": "code",
   "execution_count": null,
   "metadata": {},
   "outputs": [],
   "source": [
    "import ipyaladin as ipyal\n",
    "aladin= ipyal.Aladin(target='Berkeley 20', fov=0.42, survey='P/SDSS9/color')\n",
    "aladin"
   ]
  },
  {
   "cell_type": "code",
   "execution_count": null,
   "metadata": {},
   "outputs": [],
   "source": [
    "from astroquery.sdss import SDSS\n",
    "query = \"\"\"\n",
    "SELECT TOP 3200\n",
    "       p.objID,\n",
    "       p.ra,\n",
    "       p.dec,\n",
    "       p.u,\n",
    "       p.g,\n",
    "       p.r,\n",
    "       p.i,\n",
    "       p.z\n",
    "FROM PhotoPrimary AS p\n",
    "JOIN dbo.fGetNearbyObjEq(83.15416667, 0.18833333, 3.24) AS r ON r.objID = p.objID\n",
    "WHERE p.clean = 1 and p.probPSF = 1\n",
    "\"\"\"\n",
    "cluster_cat = SDSS.query_sql(query)"
   ]
  },
  {
   "cell_type": "code",
   "execution_count": null,
   "metadata": {},
   "outputs": [],
   "source": [
    "query_apo = \"\"\"\n",
    "SELECT TOP 5600 photoobj.objID as objID, photoobj.run, photoobj.camcol, photoobj.field, photoobj.obj,\n",
    "photoobj.psfmag_u AS u, photoobj.psfmag_g AS g, photoobj.psfmag_r AS r, photoobj.psfmag_i AS i,\n",
    "photoobj.psfmag_z AS z, photoobj.ra as photoobj_ra, photoobj.dec as photoobj_dec,\n",
    "photoobj.ra AS ra, photoobj.dec AS dec, star.apstar_id, star.ra as star_ra, star.dec as star_dec,\n",
    "aspcap.teff, aspcap.param_m_h, aspcap.logg\n",
    "FROM apogeeStar AS star\n",
    "JOIN fGetNearbyApogeeStarEq(250.423458,36.461306,60) AS near ON star.apstar_id = near.apstar_id\n",
    "CROSS APPLY dbo.fGetNearestObjEq(star.ra, star.dec, 3.6) AS near_s\n",
    "JOIN photoobj ON near_s.objid=photoobj.objid\n",
    "JOIN aspcapStar as aspcap ON star.apstar_id = aspcap.apstar_id\n",
    "\"\"\"\n",
    "cluster_apo_cat = SDSS.query_sql(query_apo)"
   ]
  },
  {
   "cell_type": "code",
   "execution_count": null,
   "metadata": {},
   "outputs": [],
   "source": [
    "len(cluster_apo_cat)\n",
    "cluster_apo_cat"
   ]
  },
  {
   "cell_type": "code",
   "execution_count": null,
   "metadata": {},
   "outputs": [],
   "source": [
    "aladin.add_table(cluster_cat)"
   ]
  },
  {
   "cell_type": "code",
   "execution_count": null,
   "metadata": {},
   "outputs": [],
   "source": [
    "import astropixie\n",
    "import astropixie_widgets as aww"
   ]
  },
  {
   "cell_type": "code",
   "execution_count": null,
   "metadata": {},
   "outputs": [],
   "source": [
    "aww.data.SDSSRegion??"
   ]
  },
  {
   "cell_type": "code",
   "execution_count": null,
   "metadata": {},
   "outputs": [],
   "source": [
    "sdss_reg = astropixie.data.SDSSRegion(cluster_cat)\n",
    "sdss_reg.to_array()\n",
    "teffs = aww.science.teff(sdss_reg)\n",
    "lums = aww.science.luminosity(sdss_reg)\n",
    "lums"
   ]
  },
  {
   "cell_type": "code",
   "execution_count": null,
   "metadata": {},
   "outputs": [],
   "source": [
    "# new with SDSS data:\n",
    "aww.config.setup_notebook()\n",
    "fig = aww.visual.hr_diagram_figure(sdss_reg)\n",
    "aww.visual.show(aww.visual.hr_diagram_figure(sdss_reg))"
   ]
  },
  {
   "cell_type": "code",
   "execution_count": null,
   "metadata": {},
   "outputs": [],
   "source": [
    "# versus the original data:\n",
    "aww.visual.hr_diagram('berkeley20')"
   ]
  },
  {
   "cell_type": "code",
   "execution_count": null,
   "metadata": {},
   "outputs": [],
   "source": []
  }
 ],
 "metadata": {
  "kernelspec": {
   "display_name": "Python 3",
   "language": "python",
   "name": "python3"
  },
  "language_info": {
   "codemirror_mode": {
    "name": "ipython",
    "version": 3
   },
   "file_extension": ".py",
   "mimetype": "text/x-python",
   "name": "python",
   "nbconvert_exporter": "python",
   "pygments_lexer": "ipython3",
   "version": "3.6.5"
  }
 },
 "nbformat": 4,
 "nbformat_minor": 2
}
