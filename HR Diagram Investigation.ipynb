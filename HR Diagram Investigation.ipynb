{
 "cells": [
  {
   "cell_type": "markdown",
   "metadata": {},
   "source": [
    "## Introduction and Background\n",
    "\n",
    "What do you know about star properties, such as their size, temperature and energy output? This investigation will give you the opportunity to create your own “window” to the stars, and explore what the view through that window can reveal about star properties.  \n",
    "\n",
    "Today you will be using a data visualization tool developed more than a century ago called the H-R Diagram. The designation H-R refers to the two astronomers who developed the first such plot: Ejnar Hertzsprung from Denmark, and Henry Norris Russell, an American.\n",
    "\n",
    "In order to compare stars to each other, and measure properties such as their energy output, it is important to have a way to control for distance in space. Two stars of the same brightness would look very different if one was farther away from Earth than the other. One way to eliminate that problem is to collect data from a group of stars in a star cluster. By using a cluster, you can make an assumption that all of the stars are the same distance away. Today you will collect and analyze data for the stars in one cluster, and try to understand what you can learn from it.\n",
    "\n",
    "## Data\n",
    "\n",
    "Below is your assigned cluster."
   ]
  },
  {
   "cell_type": "code",
   "execution_count": 4,
   "metadata": {},
   "outputs": [
    {
     "data": {
      "text/html": [
       "\n",
       "<div class=\"bk-root\">\n",
       "    <div class=\"bk-plotdiv\" id=\"c6081d7f-c3b9-4255-8f6c-67fc613d5d7c\"></div>\n",
       "</div>"
      ]
     },
     "metadata": {},
     "output_type": "display_data"
    },
    {
     "data": {
      "application/javascript": [
       "(function(root) {\n",
       "  function embed_document(root) {\n",
       "    \n",
       "  var docs_json = {\"80acd3e5-b188-4f61-921b-4ada7563d947\":{\"roots\":{\"references\":[{\"attributes\":{},\"id\":\"c29a73b1-0cc7-4658-905e-5f5b2624474d\",\"type\":\"LinearScale\"},{\"attributes\":{\"active_drag\":\"auto\",\"active_inspect\":\"auto\",\"active_scroll\":\"auto\",\"active_tap\":\"auto\",\"tools\":[{\"id\":\"11b3260b-fb1d-43a7-9c6f-9fe6c8837fb7\",\"type\":\"PanTool\"},{\"id\":\"effa62ff-e2fe-4302-9c67-efb2c6222911\",\"type\":\"WheelZoomTool\"},{\"id\":\"68c6e368-91a7-4c9f-9658-369dc7cba182\",\"type\":\"BoxZoomTool\"},{\"id\":\"decf2fa9-4d54-4523-9051-65d1ca65e0c4\",\"type\":\"SaveTool\"},{\"id\":\"5a4e4020-e25a-41dc-ad6a-44de0f8facb6\",\"type\":\"ResetTool\"},{\"id\":\"9b51b2b2-4b55-4d15-ac77-b9fb2c11775f\",\"type\":\"HelpTool\"}]},\"id\":\"cd47780b-62f7-4592-9059-eb29fad78d0d\",\"type\":\"Toolbar\"},{\"attributes\":{\"callback\":null,\"end\":13.106,\"start\":22.168},\"id\":\"ae0ee63a-5ca8-4946-9899-086945f93faf\",\"type\":\"Range1d\"},{\"attributes\":{},\"id\":\"effa62ff-e2fe-4302-9c67-efb2c6222911\",\"type\":\"WheelZoomTool\"},{\"attributes\":{\"below\":[{\"id\":\"d290a6fe-a268-4647-bd90-076f583b7d81\",\"type\":\"LinearAxis\"}],\"left\":[{\"id\":\"dcaf8984-58b3-4642-9d3a-aac330575331\",\"type\":\"LinearAxis\"}],\"renderers\":[{\"id\":\"d290a6fe-a268-4647-bd90-076f583b7d81\",\"type\":\"LinearAxis\"},{\"id\":\"4717b904-e8bf-4013-bd0b-a9dcaed7893d\",\"type\":\"Grid\"},{\"id\":\"dcaf8984-58b3-4642-9d3a-aac330575331\",\"type\":\"LinearAxis\"},{\"id\":\"bd105f30-e419-4412-a632-a3da0bb4277b\",\"type\":\"Grid\"},{\"id\":\"1f565e72-a606-43b8-9d59-51639c6bb2b5\",\"type\":\"BoxAnnotation\"},{\"id\":\"e7fcdcfd-d0aa-41ee-8fec-6255af0b9ff1\",\"type\":\"GlyphRenderer\"}],\"title\":{\"id\":\"d53db4e0-c74f-4b2c-af4a-5a7958d155b7\",\"type\":\"Title\"},\"toolbar\":{\"id\":\"cd47780b-62f7-4592-9059-eb29fad78d0d\",\"type\":\"Toolbar\"},\"x_range\":{\"id\":\"b694c8b8-54e3-4d68-9ea2-9acecd945ec5\",\"type\":\"DataRange1d\"},\"x_scale\":{\"id\":\"93660bb7-7326-428e-8970-14b3140d9faa\",\"type\":\"LinearScale\"},\"y_range\":{\"id\":\"ae0ee63a-5ca8-4946-9899-086945f93faf\",\"type\":\"Range1d\"},\"y_scale\":{\"id\":\"c29a73b1-0cc7-4658-905e-5f5b2624474d\",\"type\":\"LinearScale\"}},\"id\":\"214410b0-55a1-401d-bdb6-59fdc9e45788\",\"subtype\":\"Figure\",\"type\":\"Plot\"},{\"attributes\":{\"axis_label\":\"B-V [mag]\",\"formatter\":{\"id\":\"ffbad4ce-91e4-4b8b-a047-b2a6ee0271ae\",\"type\":\"BasicTickFormatter\"},\"plot\":{\"id\":\"214410b0-55a1-401d-bdb6-59fdc9e45788\",\"subtype\":\"Figure\",\"type\":\"Plot\"},\"ticker\":{\"id\":\"1eb15ae3-d308-4784-a705-9d1ee51f5376\",\"type\":\"BasicTicker\"}},\"id\":\"d290a6fe-a268-4647-bd90-076f583b7d81\",\"type\":\"LinearAxis\"},{\"attributes\":{\"fill_alpha\":{\"value\":0.78},\"fill_color\":{\"value\":\"#2961AE\"},\"line_alpha\":{\"value\":0.78},\"line_color\":{\"value\":\"#2961AE\"},\"line_width\":{\"value\":0.5},\"x\":{\"field\":\"x\"},\"y\":{\"field\":\"y\"}},\"id\":\"077f1a3f-084f-4625-a3d9-10e4bc6ce391\",\"type\":\"Circle\"},{\"attributes\":{},\"id\":\"36659dbd-1583-437d-a2f7-bf26e8e1f15d\",\"type\":\"BasicTickFormatter\"},{\"attributes\":{},\"id\":\"93660bb7-7326-428e-8970-14b3140d9faa\",\"type\":\"LinearScale\"},{\"attributes\":{},\"id\":\"11b3260b-fb1d-43a7-9c6f-9fe6c8837fb7\",\"type\":\"PanTool\"},{\"attributes\":{\"plot\":{\"id\":\"214410b0-55a1-401d-bdb6-59fdc9e45788\",\"subtype\":\"Figure\",\"type\":\"Plot\"},\"ticker\":{\"id\":\"1eb15ae3-d308-4784-a705-9d1ee51f5376\",\"type\":\"BasicTicker\"}},\"id\":\"4717b904-e8bf-4013-bd0b-a9dcaed7893d\",\"type\":\"Grid\"},{\"attributes\":{},\"id\":\"ffbad4ce-91e4-4b8b-a047-b2a6ee0271ae\",\"type\":\"BasicTickFormatter\"},{\"attributes\":{\"plot\":null,\"text\":\"Berkeley 20\"},\"id\":\"d53db4e0-c74f-4b2c-af4a-5a7958d155b7\",\"type\":\"Title\"},{\"attributes\":{\"source\":{\"id\":\"86e41fd4-fab4-4fe0-8a8b-2dbacf66bb06\",\"type\":\"ColumnDataSource\"}},\"id\":\"1ba3e760-fc4e-468d-b9a4-4efc3c9a48a6\",\"type\":\"CDSView\"},{\"attributes\":{\"callback\":null,\"column_names\":[\"x\",\"y\"],\"data\":{\"x\":[0.353,0.279,0.911,0.324,0.394,0.366,0.334,1.037,0.381,0.326,0.262,0.496,0.323,0.364,0.33,0.345,0.309,0.296,0.341,0.489,0.294,0.41,0.41,0.678,0.417,0.361,0.292,0.492,0.52,0.434,0.613,0.456,0.38,0.664,0.466,0.405,0.428,0.492,0.28,0.431,0.354,0.415,0.779,0.589,0.397,0.365,0.581,0.367,0.355,0.438,0.429,0.395,0.414,0.274,0.448,0.363,0.389,0.549,0.487,0.293,0.35,0.326,0.612,0.605,0.38,0.352,0.564,0.603,0.388,0.284,0.509,0.359,0.376,0.432,0.348,0.544,0.384,0.428,0.463,0.415,0.34,0.372,0.341,0.33,0.414,0.588,0.364,0.484,0.438,0.578,0.324,0.357,0.404,0.411,0.456,0.562,0.358,0.526,0.428,0.407,0.372,0.328,0.413,0.333,0.357,0.324,0.45,0.391,0.417,0.39,0.524,0.371,0.436,0.353,0.166,0.37,0.356,0.376,0.35,0.322,0.411,0.49,0.33,0.311,0.174,0.374,0.506,0.955,0.486,0.367,0.448,0.382,0.657,0.353,0.353,0.236,0.56,0.656,0.365,0.438,0.447,0.288,0.37,0.318,0.417,0.489,0.4,0.619,0.535,0.45,0.37,0.364,0.382,0.59,0.574,0.375,0.552,0.138,0.33,0.359,0.386,0.458,0.45,0.339,0.491,0.437,0.33,0.495,0.374,0.281,0.384,0.243,0.313,1.008,0.4,0.321,0.334,0.531,0.551,0.593,0.421,0.385,0.445,0.368,0.769,0.363,0.479,0.354,0.641,0.748,0.666,0.39,0.478,0.371,0.368,0.536,0.356,0.59,0.414,0.569,0.382,0.38,0.556,0.574,0.372,0.38,0.36,0.431,0.417,0.252,0.379,0.358,0.45,0.374,0.477,0.348,0.649,0.376,0.28,0.364,0.35,0.609,0.716,0.59,0.405,0.605,0.413,0.309,0.426,0.614,0.785,0.413,0.411,0.673,0.608,0.368,0.363,0.35,0.589,0.475,0.427,0.367,0.66,0.266,0.36,0.383,0.446,0.265,0.42,0.444,0.364,0.532,0.431,0.727,0.502,0.351,0.975,0.385,0.541,0.599,0.313,0.386,0.734,0.61,0.536,0.311,0.405,0.411,0.34,0.33,0.366,0.357,0.509,0.311,0.443,0.381,0.346,0.366,0.39,0.427,0.371,0.339,0.369,0.621,0.304,0.481,0.411,0.545,0.465,0.59,0.57,0.421,0.483,0.36,0.387,0.616,0.325,0.472,0.712,0.474,0.478,0.291,0.564,0.435,0.509,0.503,0.449,0.391,0.484,0.348,0.458,0.401,0.514,0.338,0.38,0.482,0.358,0.349,0.396,0.537,0.505,0.48,0.361,0.433,0.525,0.428,0.498,0.416,0.462,0.361,0.387,0.396,0.305,0.377,0.351,0.497,0.397,0.36,0.545,0.388,0.402,0.533,0.406,0.368,0.4,0.562,0.371,0.409,0.468,0.342,0.487,0.342,0.369,0.482,0.34,1.001,0.422,0.884,0.315,0.664,0.411],\"y\":[18.983,20.724,17.934,17.799,19.746,16.305,17.164,19.687,14.768,18.802,20.479,19.947,18.501,18.897,20.502,19.331,16.272,17.151,13.601,21.075,13.356,14.947,18.905,17.015,17.723,19.461,20.077,21.126,20.603,20.03,21.624,21.558,14.917,17.013,18.306,16.587,20.222,18.198,18.617,15.338,19.764,19.427,19.048,17.622,21.032,18.592,19.035,16.562,18.674,18.246,16.538,20.521,15.32,21.026,20.938,21.017,19.169,20.618,20.134,17.411,18.84,18.23,21.347,19.577,16.498,18.102,18.456,17.064,19.318,17.415,21.064,18.302,19.589,19.99,18.582,17.195,18.772,21.469,20.379,19.492,17.329,19.389,18.085,18.826,19.817,21.556,18.467,19.669,19.945,17.034,19.452,19.054,19.983,20.394,19.815,17.512,19.457,21.416,18.123,19.764,20.146,18.886,19.655,20.192,16.701,18.82,16.539,19.959,21.217,19.412,19.621,18.377,19.236,19.304,17.49,19.361,20.862,18.934,18.384,18.692,20.125,20.607,18.778,19.889,17.681,18.617,15.045,18.754,19.806,18.287,20.289,19.361,18.645,19.083,18.407,16.832,17.34,19.947,17.964,16.534,20.673,16.23,18.11,18.682,19.604,20.509,19.875,21.257,18.036,18.223,18.304,19.609,19.487,16.915,17.479,19.064,16.327,17.365,19.811,18.675,16.896,20.387,21.06,20.064,15.028,19.767,20.267,20.221,19.767,16.971,19.135,16.852,18.893,19.569,19.333,19.808,19.026,17.631,20.229,13.673,18.272,19.644,19.857,18.803,14.796,18.168,17.539,19.085,16.181,19.494,19.819,19.327,20.138,20.159,19.246,16.767,19.3,16.93,20.028,19.157,19.324,18.519,16.349,17.443,18.862,16.904,18.408,19.674,19.62,16.948,18.303,18.845,20.411,21.117,21.231,19.724,21.163,16.934,18.001,18.424,18.204,20.605,15.143,20.315,18.17,21.592,20.287,17.715,18.97,15.75,19.118,20.806,18.712,17.426,18.999,18.848,19.492,20.221,20.112,20.341,20.059,18.422,20.953,18.38,18.866,18.125,20.567,19.946,20.012,21.194,16.918,21.175,20.03,15.152,18.791,18.478,19.86,18.115,19.656,15.726,20.372,19.717,18.62,21.161,20.914,21.321,20.0,21.108,20.037,20.054,19.502,18.502,19.292,18.768,20.36,19.858,18.499,18.255,18.219,19.905,18.937,18.311,18.942,15.998,19.989,20.186,20.105,21.304,19.431,20.778,17.343,16.85,20.308,18.508,19.561,15.981,19.684,20.46,21.668,19.33,20.242,20.065,20.122,20.166,18.391,20.784,20.975,19.845,21.434,19.292,20.209,16.815,20.194,19.491,19.539,19.808,18.511,19.698,19.616,19.447,18.429,19.902,18.517,17.858,20.51,18.201,19.875,20.025,16.947,18.407,19.65,19.81,18.787,20.014,19.273,19.915,16.915,13.516,17.602,19.847,19.26,18.739,18.064,19.263,19.551,19.972,20.415,21.178,21.567,21.373,20.917,18.809,19.867,16.624,18.548,17.71,21.033,18.63,19.424,19.175,19.509]}},\"id\":\"86e41fd4-fab4-4fe0-8a8b-2dbacf66bb06\",\"type\":\"ColumnDataSource\"},{\"attributes\":{\"data_source\":{\"id\":\"86e41fd4-fab4-4fe0-8a8b-2dbacf66bb06\",\"type\":\"ColumnDataSource\"},\"glyph\":{\"id\":\"077f1a3f-084f-4625-a3d9-10e4bc6ce391\",\"type\":\"Circle\"},\"hover_glyph\":null,\"muted_glyph\":null,\"nonselection_glyph\":{\"id\":\"489ad42f-8991-4b0a-84e7-b196d2616077\",\"type\":\"Circle\"},\"selection_glyph\":null,\"view\":{\"id\":\"1ba3e760-fc4e-468d-b9a4-4efc3c9a48a6\",\"type\":\"CDSView\"}},\"id\":\"e7fcdcfd-d0aa-41ee-8fec-6255af0b9ff1\",\"type\":\"GlyphRenderer\"},{\"attributes\":{\"callback\":null},\"id\":\"b694c8b8-54e3-4d68-9ea2-9acecd945ec5\",\"type\":\"DataRange1d\"},{\"attributes\":{\"fill_alpha\":{\"value\":0.1},\"fill_color\":{\"value\":\"#1f77b4\"},\"line_alpha\":{\"value\":0.1},\"line_color\":{\"value\":\"#1f77b4\"},\"line_width\":{\"value\":0.5},\"x\":{\"field\":\"x\"},\"y\":{\"field\":\"y\"}},\"id\":\"489ad42f-8991-4b0a-84e7-b196d2616077\",\"type\":\"Circle\"},{\"attributes\":{},\"id\":\"5a4e4020-e25a-41dc-ad6a-44de0f8facb6\",\"type\":\"ResetTool\"},{\"attributes\":{},\"id\":\"9b51b2b2-4b55-4d15-ac77-b9fb2c11775f\",\"type\":\"HelpTool\"},{\"attributes\":{\"dimension\":1,\"plot\":{\"id\":\"214410b0-55a1-401d-bdb6-59fdc9e45788\",\"subtype\":\"Figure\",\"type\":\"Plot\"},\"ticker\":{\"id\":\"f2f67041-680c-4f8a-b8eb-fde0bf41a65c\",\"type\":\"BasicTicker\"}},\"id\":\"bd105f30-e419-4412-a632-a3da0bb4277b\",\"type\":\"Grid\"},{\"attributes\":{},\"id\":\"1eb15ae3-d308-4784-a705-9d1ee51f5376\",\"type\":\"BasicTicker\"},{\"attributes\":{},\"id\":\"decf2fa9-4d54-4523-9051-65d1ca65e0c4\",\"type\":\"SaveTool\"},{\"attributes\":{\"axis_label\":\"V [mag]\",\"formatter\":{\"id\":\"36659dbd-1583-437d-a2f7-bf26e8e1f15d\",\"type\":\"BasicTickFormatter\"},\"plot\":{\"id\":\"214410b0-55a1-401d-bdb6-59fdc9e45788\",\"subtype\":\"Figure\",\"type\":\"Plot\"},\"ticker\":{\"id\":\"f2f67041-680c-4f8a-b8eb-fde0bf41a65c\",\"type\":\"BasicTicker\"}},\"id\":\"dcaf8984-58b3-4642-9d3a-aac330575331\",\"type\":\"LinearAxis\"},{\"attributes\":{\"bottom_units\":\"screen\",\"fill_alpha\":{\"value\":0.5},\"fill_color\":{\"value\":\"lightgrey\"},\"left_units\":\"screen\",\"level\":\"overlay\",\"line_alpha\":{\"value\":1.0},\"line_color\":{\"value\":\"black\"},\"line_dash\":[4,4],\"line_width\":{\"value\":2},\"plot\":null,\"render_mode\":\"css\",\"right_units\":\"screen\",\"top_units\":\"screen\"},\"id\":\"1f565e72-a606-43b8-9d59-51639c6bb2b5\",\"type\":\"BoxAnnotation\"},{\"attributes\":{},\"id\":\"f2f67041-680c-4f8a-b8eb-fde0bf41a65c\",\"type\":\"BasicTicker\"},{\"attributes\":{\"overlay\":{\"id\":\"1f565e72-a606-43b8-9d59-51639c6bb2b5\",\"type\":\"BoxAnnotation\"}},\"id\":\"68c6e368-91a7-4c9f-9658-369dc7cba182\",\"type\":\"BoxZoomTool\"}],\"root_ids\":[\"214410b0-55a1-401d-bdb6-59fdc9e45788\"]},\"title\":\"Bokeh Application\",\"version\":\"0.12.13\"}};\n",
       "  var render_items = [{\"docid\":\"80acd3e5-b188-4f61-921b-4ada7563d947\",\"elementid\":\"c6081d7f-c3b9-4255-8f6c-67fc613d5d7c\",\"modelid\":\"214410b0-55a1-401d-bdb6-59fdc9e45788\"}];\n",
       "  root.Bokeh.embed.embed_items_notebook(docs_json, render_items);\n",
       "\n",
       "  }\n",
       "  if (root.Bokeh !== undefined) {\n",
       "    embed_document(root);\n",
       "  } else {\n",
       "    var attempts = 0;\n",
       "    var timer = setInterval(function(root) {\n",
       "      if (root.Bokeh !== undefined) {\n",
       "        embed_document(root);\n",
       "        clearInterval(timer);\n",
       "      }\n",
       "      attempts++;\n",
       "      if (attempts > 100) {\n",
       "        console.log(\"Bokeh: ERROR: Unable to run BokehJS code because BokehJS library is missing\")\n",
       "        clearInterval(timer);\n",
       "      }\n",
       "    }, 10, root)\n",
       "  }\n",
       "})(window);"
      ],
      "application/vnd.bokehjs_exec.v0+json": ""
     },
     "metadata": {
      "application/vnd.bokehjs_exec.v0+json": {
       "id": "214410b0-55a1-401d-bdb6-59fdc9e45788"
      }
     },
     "output_type": "display_data"
    }
   ],
   "source": [
    "import hr\n",
    "hr.visual.diagram('berkeley20')"
   ]
  },
  {
   "cell_type": "code",
   "execution_count": 5,
   "metadata": {},
   "outputs": [
    {
     "data": {
      "text/html": [
       "\n",
       "<div class=\"bk-root\">\n",
       "    <div class=\"bk-plotdiv\" id=\"85b0ed9f-e9da-4352-9337-b0f503e2f7e8\"></div>\n",
       "</div>"
      ]
     },
     "metadata": {},
     "output_type": "display_data"
    },
    {
     "data": {
      "application/javascript": [
       "(function(root) {\n",
       "  function embed_document(root) {\n",
       "    \n",
       "  var docs_json = {\"e1da93bb-160a-4793-8ad0-b57e6b608c48\":{\"roots\":{\"references\":[{\"attributes\":{\"source\":{\"id\":\"2db64d1f-7736-4932-9adb-a2893f3b3023\",\"type\":\"ColumnDataSource\"}},\"id\":\"90655045-563b-4a87-b09d-741d59ba64ff\",\"type\":\"CDSView\"},{\"attributes\":{},\"id\":\"a97122ac-1dec-4185-864c-ddaf51cbae13\",\"type\":\"ResetTool\"},{\"attributes\":{\"fill_alpha\":{\"value\":0.1},\"fill_color\":{\"value\":\"#1f77b4\"},\"line_alpha\":{\"value\":0.1},\"line_color\":{\"value\":\"#1f77b4\"},\"line_width\":{\"value\":0.5},\"x\":{\"field\":\"x\"},\"y\":{\"field\":\"y\"}},\"id\":\"88abb204-a568-4002-85ff-fd3fa6f08167\",\"type\":\"Circle\"},{\"attributes\":{},\"id\":\"4f291328-7125-417c-b11c-f63799fe6c20\",\"type\":\"PanTool\"},{\"attributes\":{\"bottom_units\":\"screen\",\"fill_alpha\":{\"value\":0.5},\"fill_color\":{\"value\":\"lightgrey\"},\"left_units\":\"screen\",\"level\":\"overlay\",\"line_alpha\":{\"value\":1.0},\"line_color\":{\"value\":\"black\"},\"line_dash\":[4,4],\"line_width\":{\"value\":2},\"plot\":null,\"render_mode\":\"css\",\"right_units\":\"screen\",\"top_units\":\"screen\"},\"id\":\"c65cccc1-6c22-481d-abea-b2221c94c44c\",\"type\":\"BoxAnnotation\"},{\"attributes\":{\"data_source\":{\"id\":\"2db64d1f-7736-4932-9adb-a2893f3b3023\",\"type\":\"ColumnDataSource\"},\"glyph\":{\"id\":\"731790ad-e19b-4d37-b9c2-97d669f301f3\",\"type\":\"Circle\"},\"hover_glyph\":null,\"muted_glyph\":null,\"nonselection_glyph\":{\"id\":\"88abb204-a568-4002-85ff-fd3fa6f08167\",\"type\":\"Circle\"},\"selection_glyph\":null,\"view\":{\"id\":\"90655045-563b-4a87-b09d-741d59ba64ff\",\"type\":\"CDSView\"}},\"id\":\"2e434176-730c-4af9-8801-e38931a3c577\",\"type\":\"GlyphRenderer\"},{\"attributes\":{},\"id\":\"c5ecbaab-3845-4238-921e-ac6b44ef2f53\",\"type\":\"BasicTickFormatter\"},{\"attributes\":{},\"id\":\"d90aad1a-2079-4c06-8602-a41c43e2f36b\",\"type\":\"BasicTickFormatter\"},{\"attributes\":{},\"id\":\"56ce4fc9-7017-4987-81a3-dcb38674be79\",\"type\":\"BasicTicker\"},{\"attributes\":{\"plot\":null,\"text\":\"Berkeley 20\"},\"id\":\"242adddb-ca50-4ed7-bda1-fa3531ba2e5a\",\"type\":\"Title\"},{\"attributes\":{},\"id\":\"67221cd0-fd9a-4515-8148-94e058097dc4\",\"type\":\"LinearScale\"},{\"attributes\":{\"callback\":null,\"column_names\":[\"x\",\"y\"],\"data\":{\"x\":[0.353,0.279,0.911,0.324,0.394,0.366,0.334,1.037,0.381,0.326,0.262,0.496,0.323,0.364,0.33,0.345,0.309,0.296,0.341,0.489,0.294,0.41,0.41,0.678,0.417,0.361,0.292,0.492,0.52,0.434,0.613,0.456,0.38,0.664,0.466,0.405,0.428,0.492,0.28,0.431,0.354,0.415,0.779,0.589,0.397,0.365,0.581,0.367,0.355,0.438,0.429,0.395,0.414,0.274,0.448,0.363,0.389,0.549,0.487,0.293,0.35,0.326,0.612,0.605,0.38,0.352,0.564,0.603,0.388,0.284,0.509,0.359,0.376,0.432,0.348,0.544,0.384,0.428,0.463,0.415,0.34,0.372,0.341,0.33,0.414,0.588,0.364,0.484,0.438,0.578,0.324,0.357,0.404,0.411,0.456,0.562,0.358,0.526,0.428,0.407,0.372,0.328,0.413,0.333,0.357,0.324,0.45,0.391,0.417,0.39,0.524,0.371,0.436,0.353,0.166,0.37,0.356,0.376,0.35,0.322,0.411,0.49,0.33,0.311,0.174,0.374,0.506,0.955,0.486,0.367,0.448,0.382,0.657,0.353,0.353,0.236,0.56,0.656,0.365,0.438,0.447,0.288,0.37,0.318,0.417,0.489,0.4,0.619,0.535,0.45,0.37,0.364,0.382,0.59,0.574,0.375,0.552,0.138,0.33,0.359,0.386,0.458,0.45,0.339,0.491,0.437,0.33,0.495,0.374,0.281,0.384,0.243,0.313,1.008,0.4,0.321,0.334,0.531,0.551,0.593,0.421,0.385,0.445,0.368,0.769,0.363,0.479,0.354,0.641,0.748,0.666,0.39,0.478,0.371,0.368,0.536,0.356,0.59,0.414,0.569,0.382,0.38,0.556,0.574,0.372,0.38,0.36,0.431,0.417,0.252,0.379,0.358,0.45,0.374,0.477,0.348,0.649,0.376,0.28,0.364,0.35,0.609,0.716,0.59,0.405,0.605,0.413,0.309,0.426,0.614,0.785,0.413,0.411,0.673,0.608,0.368,0.363,0.35,0.589,0.475,0.427,0.367,0.66,0.266,0.36,0.383,0.446,0.265,0.42,0.444,0.364,0.532,0.431,0.727,0.502,0.351,0.975,0.385,0.541,0.599,0.313,0.386,0.734,0.61,0.536,0.311,0.405,0.411,0.34,0.33,0.366,0.357,0.509,0.311,0.443,0.381,0.346,0.366,0.39,0.427,0.371,0.339,0.369,0.621,0.304,0.481,0.411,0.545,0.465,0.59,0.57,0.421,0.483,0.36,0.387,0.616,0.325,0.472,0.712,0.474,0.478,0.291,0.564,0.435,0.509,0.503,0.449,0.391,0.484,0.348,0.458,0.401,0.514,0.338,0.38,0.482,0.358,0.349,0.396,0.537,0.505,0.48,0.361,0.433,0.525,0.428,0.498,0.416,0.462,0.361,0.387,0.396,0.305,0.377,0.351,0.497,0.397,0.36,0.545,0.388,0.402,0.533,0.406,0.368,0.4,0.562,0.371,0.409,0.468,0.342,0.487,0.342,0.369,0.482,0.34,1.001,0.422,0.884,0.315,0.664,0.411,0.44],\"y\":[18.983,20.724,17.934,17.799,19.746,16.305,17.164,19.687,14.768,18.802,20.479,19.947,18.501,18.897,20.502,19.331,16.272,17.151,13.601,21.075,13.356,14.947,18.905,17.015,17.723,19.461,20.077,21.126,20.603,20.03,21.624,21.558,14.917,17.013,18.306,16.587,20.222,18.198,18.617,15.338,19.764,19.427,19.048,17.622,21.032,18.592,19.035,16.562,18.674,18.246,16.538,20.521,15.32,21.026,20.938,21.017,19.169,20.618,20.134,17.411,18.84,18.23,21.347,19.577,16.498,18.102,18.456,17.064,19.318,17.415,21.064,18.302,19.589,19.99,18.582,17.195,18.772,21.469,20.379,19.492,17.329,19.389,18.085,18.826,19.817,21.556,18.467,19.669,19.945,17.034,19.452,19.054,19.983,20.394,19.815,17.512,19.457,21.416,18.123,19.764,20.146,18.886,19.655,20.192,16.701,18.82,16.539,19.959,21.217,19.412,19.621,18.377,19.236,19.304,17.49,19.361,20.862,18.934,18.384,18.692,20.125,20.607,18.778,19.889,17.681,18.617,15.045,18.754,19.806,18.287,20.289,19.361,18.645,19.083,18.407,16.832,17.34,19.947,17.964,16.534,20.673,16.23,18.11,18.682,19.604,20.509,19.875,21.257,18.036,18.223,18.304,19.609,19.487,16.915,17.479,19.064,16.327,17.365,19.811,18.675,16.896,20.387,21.06,20.064,15.028,19.767,20.267,20.221,19.767,16.971,19.135,16.852,18.893,19.569,19.333,19.808,19.026,17.631,20.229,13.673,18.272,19.644,19.857,18.803,14.796,18.168,17.539,19.085,16.181,19.494,19.819,19.327,20.138,20.159,19.246,16.767,19.3,16.93,20.028,19.157,19.324,18.519,16.349,17.443,18.862,16.904,18.408,19.674,19.62,16.948,18.303,18.845,20.411,21.117,21.231,19.724,21.163,16.934,18.001,18.424,18.204,20.605,15.143,20.315,18.17,21.592,20.287,17.715,18.97,15.75,19.118,20.806,18.712,17.426,18.999,18.848,19.492,20.221,20.112,20.341,20.059,18.422,20.953,18.38,18.866,18.125,20.567,19.946,20.012,21.194,16.918,21.175,20.03,15.152,18.791,18.478,19.86,18.115,19.656,15.726,20.372,19.717,18.62,21.161,20.914,21.321,20.0,21.108,20.037,20.054,19.502,18.502,19.292,18.768,20.36,19.858,18.499,18.255,18.219,19.905,18.937,18.311,18.942,15.998,19.989,20.186,20.105,21.304,19.431,20.778,17.343,16.85,20.308,18.508,19.561,15.981,19.684,20.46,21.668,19.33,20.242,20.065,20.122,20.166,18.391,20.784,20.975,19.845,21.434,19.292,20.209,16.815,20.194,19.491,19.539,19.808,18.511,19.698,19.616,19.447,18.429,19.902,18.517,17.858,20.51,18.201,19.875,20.025,16.947,18.407,19.65,19.81,18.787,20.014,19.273,19.915,16.915,13.516,17.602,19.847,19.26,18.739,18.064,19.263,19.551,19.972,20.415,21.178,21.567,21.373,20.917,18.809,19.867,16.624,18.548,17.71,21.033,18.63,19.424,19.175,19.509,16.589]}},\"id\":\"2db64d1f-7736-4932-9adb-a2893f3b3023\",\"type\":\"ColumnDataSource\"},{\"attributes\":{\"axis_label\":\"B-V [mag]\",\"formatter\":{\"id\":\"d90aad1a-2079-4c06-8602-a41c43e2f36b\",\"type\":\"BasicTickFormatter\"},\"plot\":{\"id\":\"068ae290-d3a1-460a-b42f-11ee8c35264e\",\"subtype\":\"Figure\",\"type\":\"Plot\"},\"ticker\":{\"id\":\"6e9d8a0f-3569-435d-a212-6d8ebc803a8a\",\"type\":\"BasicTicker\"}},\"id\":\"8aba6b20-265f-4df3-b746-296e5d894f90\",\"type\":\"LinearAxis\"},{\"attributes\":{\"overlay\":{\"id\":\"c65cccc1-6c22-481d-abea-b2221c94c44c\",\"type\":\"BoxAnnotation\"}},\"id\":\"4416336b-137c-4ee5-bdf9-772212d5c156\",\"type\":\"BoxZoomTool\"},{\"attributes\":{\"callback\":null,\"end\":13.106,\"start\":22.168},\"id\":\"6b276ad6-f6f0-4822-b407-da05dc5ce038\",\"type\":\"Range1d\"},{\"attributes\":{},\"id\":\"828ba59d-9188-425f-a235-d4df8a2118d1\",\"type\":\"WheelZoomTool\"},{\"attributes\":{\"plot\":{\"id\":\"068ae290-d3a1-460a-b42f-11ee8c35264e\",\"subtype\":\"Figure\",\"type\":\"Plot\"},\"ticker\":{\"id\":\"6e9d8a0f-3569-435d-a212-6d8ebc803a8a\",\"type\":\"BasicTicker\"}},\"id\":\"7d4a7cb4-9a4a-467e-ab4f-d69167e07c0a\",\"type\":\"Grid\"},{\"attributes\":{\"below\":[{\"id\":\"8aba6b20-265f-4df3-b746-296e5d894f90\",\"type\":\"LinearAxis\"}],\"left\":[{\"id\":\"820b1ce8-5f4b-408a-8209-f5964175accd\",\"type\":\"LinearAxis\"}],\"renderers\":[{\"id\":\"8aba6b20-265f-4df3-b746-296e5d894f90\",\"type\":\"LinearAxis\"},{\"id\":\"7d4a7cb4-9a4a-467e-ab4f-d69167e07c0a\",\"type\":\"Grid\"},{\"id\":\"820b1ce8-5f4b-408a-8209-f5964175accd\",\"type\":\"LinearAxis\"},{\"id\":\"f499de14-8d8d-4d92-9e8c-924b24637d77\",\"type\":\"Grid\"},{\"id\":\"c65cccc1-6c22-481d-abea-b2221c94c44c\",\"type\":\"BoxAnnotation\"},{\"id\":\"2e434176-730c-4af9-8801-e38931a3c577\",\"type\":\"GlyphRenderer\"}],\"title\":{\"id\":\"242adddb-ca50-4ed7-bda1-fa3531ba2e5a\",\"type\":\"Title\"},\"toolbar\":{\"id\":\"19e32f47-2087-469c-b5e2-cd1c6c19ac1c\",\"type\":\"Toolbar\"},\"x_range\":{\"id\":\"add9abb5-949a-4574-98c3-2f39760b69d9\",\"type\":\"DataRange1d\"},\"x_scale\":{\"id\":\"7c744002-da0a-4976-b0a1-113e1e94fb58\",\"type\":\"LinearScale\"},\"y_range\":{\"id\":\"6b276ad6-f6f0-4822-b407-da05dc5ce038\",\"type\":\"Range1d\"},\"y_scale\":{\"id\":\"67221cd0-fd9a-4515-8148-94e058097dc4\",\"type\":\"LinearScale\"}},\"id\":\"068ae290-d3a1-460a-b42f-11ee8c35264e\",\"subtype\":\"Figure\",\"type\":\"Plot\"},{\"attributes\":{},\"id\":\"7c744002-da0a-4976-b0a1-113e1e94fb58\",\"type\":\"LinearScale\"},{\"attributes\":{\"callback\":null},\"id\":\"add9abb5-949a-4574-98c3-2f39760b69d9\",\"type\":\"DataRange1d\"},{\"attributes\":{},\"id\":\"07184e35-31f5-4c1c-ac4c-8340c3d6bfbe\",\"type\":\"HelpTool\"},{\"attributes\":{\"dimension\":1,\"plot\":{\"id\":\"068ae290-d3a1-460a-b42f-11ee8c35264e\",\"subtype\":\"Figure\",\"type\":\"Plot\"},\"ticker\":{\"id\":\"56ce4fc9-7017-4987-81a3-dcb38674be79\",\"type\":\"BasicTicker\"}},\"id\":\"f499de14-8d8d-4d92-9e8c-924b24637d77\",\"type\":\"Grid\"},{\"attributes\":{\"axis_label\":\"V [mag]\",\"formatter\":{\"id\":\"c5ecbaab-3845-4238-921e-ac6b44ef2f53\",\"type\":\"BasicTickFormatter\"},\"plot\":{\"id\":\"068ae290-d3a1-460a-b42f-11ee8c35264e\",\"subtype\":\"Figure\",\"type\":\"Plot\"},\"ticker\":{\"id\":\"56ce4fc9-7017-4987-81a3-dcb38674be79\",\"type\":\"BasicTicker\"}},\"id\":\"820b1ce8-5f4b-408a-8209-f5964175accd\",\"type\":\"LinearAxis\"},{\"attributes\":{\"active_drag\":\"auto\",\"active_inspect\":\"auto\",\"active_scroll\":\"auto\",\"active_tap\":\"auto\",\"tools\":[{\"id\":\"4f291328-7125-417c-b11c-f63799fe6c20\",\"type\":\"PanTool\"},{\"id\":\"828ba59d-9188-425f-a235-d4df8a2118d1\",\"type\":\"WheelZoomTool\"},{\"id\":\"4416336b-137c-4ee5-bdf9-772212d5c156\",\"type\":\"BoxZoomTool\"},{\"id\":\"58cdaf95-8cbc-4549-932f-a6c096eed62a\",\"type\":\"SaveTool\"},{\"id\":\"a97122ac-1dec-4185-864c-ddaf51cbae13\",\"type\":\"ResetTool\"},{\"id\":\"07184e35-31f5-4c1c-ac4c-8340c3d6bfbe\",\"type\":\"HelpTool\"}]},\"id\":\"19e32f47-2087-469c-b5e2-cd1c6c19ac1c\",\"type\":\"Toolbar\"},{\"attributes\":{\"fill_alpha\":{\"value\":0.78},\"fill_color\":{\"value\":\"#2961AE\"},\"line_alpha\":{\"value\":0.78},\"line_color\":{\"value\":\"#2961AE\"},\"line_width\":{\"value\":0.5},\"x\":{\"field\":\"x\"},\"y\":{\"field\":\"y\"}},\"id\":\"731790ad-e19b-4d37-b9c2-97d669f301f3\",\"type\":\"Circle\"},{\"attributes\":{},\"id\":\"6e9d8a0f-3569-435d-a212-6d8ebc803a8a\",\"type\":\"BasicTicker\"},{\"attributes\":{},\"id\":\"58cdaf95-8cbc-4549-932f-a6c096eed62a\",\"type\":\"SaveTool\"}],\"root_ids\":[\"068ae290-d3a1-460a-b42f-11ee8c35264e\"]},\"title\":\"Bokeh Application\",\"version\":\"0.12.13\"}};\n",
       "  var render_items = [{\"docid\":\"e1da93bb-160a-4793-8ad0-b57e6b608c48\",\"elementid\":\"85b0ed9f-e9da-4352-9337-b0f503e2f7e8\",\"modelid\":\"068ae290-d3a1-460a-b42f-11ee8c35264e\"}];\n",
       "  root.Bokeh.embed.embed_items_notebook(docs_json, render_items);\n",
       "\n",
       "  }\n",
       "  if (root.Bokeh !== undefined) {\n",
       "    embed_document(root);\n",
       "  } else {\n",
       "    var attempts = 0;\n",
       "    var timer = setInterval(function(root) {\n",
       "      if (root.Bokeh !== undefined) {\n",
       "        embed_document(root);\n",
       "        clearInterval(timer);\n",
       "      }\n",
       "      attempts++;\n",
       "      if (attempts > 100) {\n",
       "        console.log(\"Bokeh: ERROR: Unable to run BokehJS code because BokehJS library is missing\")\n",
       "        clearInterval(timer);\n",
       "      }\n",
       "    }, 10, root)\n",
       "  }\n",
       "})(window);"
      ],
      "application/vnd.bokehjs_exec.v0+json": ""
     },
     "metadata": {
      "application/vnd.bokehjs_exec.v0+json": {
       "id": "068ae290-d3a1-460a-b42f-11ee8c35264e"
      }
     },
     "output_type": "display_data"
    }
   ],
   "source": [
    "hr.visual.diagram('berkeley20_cds')"
   ]
  },
  {
   "cell_type": "code",
   "execution_count": null,
   "metadata": {},
   "outputs": [],
   "source": []
  }
 ],
 "metadata": {
  "kernelspec": {
   "display_name": "Python 3",
   "language": "python",
   "name": "python3"
  },
  "language_info": {
   "codemirror_mode": {
    "name": "ipython",
    "version": 3
   },
   "file_extension": ".py",
   "mimetype": "text/x-python",
   "name": "python",
   "nbconvert_exporter": "python",
   "pygments_lexer": "ipython3",
   "version": "3.6.3"
  }
 },
 "nbformat": 4,
 "nbformat_minor": 2
}
