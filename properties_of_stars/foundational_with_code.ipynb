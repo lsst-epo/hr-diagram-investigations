{
 "cells": [
  {
   "cell_type": "code",
   "execution_count": null,
   "metadata": {
    "autoRun": "true",
    "hideCode": "true"
   },
   "outputs": [],
   "source": [
    "# Hidden code cell for setup\n",
    "\n",
    "# Imports and setup\n",
    "import astropixie_widgets\n",
    "import enum\n",
    "import ipywidgets\n",
    "import numpy\n",
    "\n",
    "astropixie_widgets.config.setup_notebook()\n",
    "\n",
    "from astropixie.data import pprint as show_data_in_table\n",
    "from numpy import intersect1d as stars_in_both\n",
    "\n",
    "class SortOrder(enum.Enum):\n",
    "    BrightestToDimmest = enum.auto()\n",
    "    DimmestToBrightest = enum.auto()\n",
    "    HottestToCoolest = enum.auto()\n",
    "    CoolestToHottest = enum.auto()\n",
    "\n",
    "\n",
    "def filter_star_data(data, sortOrder, percent=100):\n",
    "    if sortOrder in [SortOrder.BrightestToDimmest, SortOrder.DimmestToBrightest]:\n",
    "        order = 'lum'\n",
    "    elif sortOrder in [SortOrder.HottestToCoolest, SortOrder.CoolestToHottest]:\n",
    "        order = 'temp'\n",
    "        \n",
    "    sortedData = numpy.sort(data, axis=None, order=order)\n",
    "    \n",
    "    if sortOrder in [SortOrder.HottestToCoolest, SortOrder.BrightestToDimmest]:\n",
    "        sortedData = sortedData[::-1]\n",
    "        \n",
    "    filteredStarCount = int(len(sortedData) * percent / 100)\n",
    "    return sortedData[0:filteredStarCount]"
   ]
  },
  {
   "cell_type": "markdown",
   "metadata": {},
   "source": [
    "## Introduction and Background\n",
    "\n",
    "Today you will be using a data visualization tool called the [H-R Diagram](https://en.wikipedia.org/wiki/Hertzsprung–Russell_diagram), first developed more than a century ago by [Ejnar Hertzsprung](https://en.wikipedia.org/wiki/Ejnar_Hertzsprung) from Denmark, and [Henry Norris Russell](https://en.wikipedia.org/wiki/Henry_Norris_Russell), an American. The H-R Diagram will enable you to create your own \"window\" to the stars and explore what it can reveal about star properties such as size, temperature, and energy output.\n",
    "\n",
    "In order to accurately compare stars to each other and measure properties such as their energy outputs, it is important to account for the fact that two stars of the same brightness will look very different if one is farther away from Earth than the other. One way to address this issue is to collect data from a group of stars in a [star cluster](https://en.wikipedia.org/wiki/Star_cluster), in which all the stars are the same distance away. Today you will collect and analyze data for the stars in one cluster, which will allow you to determine the variation that exists in stellar properties. \n",
    "\n",
    "In this investigation, the term [luminosity](https://en.wikipedia.org/wiki/Luminosity) refers to the total energy output from a star per unit of time. Luminosity is typically reported as a ratio of the star's energy output compared to the energy emitted by the Sun. For example, a star with a _solar luminosity_ of \"10\" emits ten times more energy than the Sun."
   ]
  },
  {
   "cell_type": "markdown",
   "metadata": {},
   "source": [
    "# Procedure and Data\n",
    "\n",
    "First call up the information and data for your star cluster. \n",
    "*Type in the name of your cluster and press Enter:* "
   ]
  },
  {
   "cell_type": "code",
   "execution_count": null,
   "metadata": {
    "autoRun": "true",
    "hideCode": "true"
   },
   "outputs": [],
   "source": [
    "# Hidden code cell\n",
    "shrd = astropixie_widgets.visual.SHRD(show_sliders=False)\n",
    "shrd.show()\n",
    "\n",
    "# We have to somehow get the data into this variable for the selected stars in the cluster\n",
    "all_star_data = astropixie_widgets.science.table(astropixie_widgets.data.Berkeley20())\n",
    "\n",
    "(x_range, y_range) = astropixie_widgets.visual.calculate_diagram_ranges(all_star_data)\n",
    "\n",
    "def show_data_in_hr_diagram(data):\n",
    "    # Note, closure over x_range, y_range to keep axes consistent\n",
    "    # across multiple diagrams.\n",
    "    astropixie_widgets.visual.hr_diagram_from_data(data, x_range, y_range)"
   ]
  },
  {
   "cell_type": "markdown",
   "metadata": {},
   "source": [
    "#### ![Click](http://assets.lsst.rocks/data/icons/sized/svg/eye_16x.svg) *Make your best estimate of which stars in the image belong to the cluster.*\n",
    "\n",
    "#### ![Click](http://assets.lsst.rocks/data/icons/sized/svg/click_16x.svg) *Use your mouse to outline the boundary of the cluster.*\n",
    "\n",
    "#### You will now see a plot of all the data for the stars you selected displayed on an H-R Diagram.\n",
    "\n",
    "#### ![Click](http://assets.lsst.rocks/data/icons/sized/svg/eye_16x.svg) Notice that most stars occupy a region stretching from the upper left to the lower right of the diagram. This is known as the [main sequence](https://cnx.org/contents/LnN76Opl@13.153:EVgehrPG@9/The-HR-Diagram)."
   ]
  },
  {
   "cell_type": "markdown",
   "metadata": {},
   "source": [
    "#### ![Click](http://assets.lsst.rocks/data/icons/sized/svg/question_16x.svg) Answer the next question about the main sequence of your cluster."
   ]
  },
  {
   "cell_type": "code",
   "execution_count": null,
   "metadata": {
    "autoRun": "true",
    "hideCode": "true"
   },
   "outputs": [],
   "source": [
    "# Hidden code cell for question\n",
    "astropixie_widgets.question.show_question(\"1. Where on the main sequence are stars the most numerous? What color are these stars?\")"
   ]
  },
  {
   "cell_type": "markdown",
   "metadata": {},
   "source": [
    "#### You will now begin to work with code to define the characteristics of the stars in the cluster.  The code in the gray below calls up all data in the cluster and displays it as a data table. \n",
    "\n",
    "#### ![Click](http://assets.lsst.rocks/data/icons/sized/svg/click_16x.svg) Click on the gray code box below, and hold down SHIFT and press ENTER to run this code."
   ]
  },
  {
   "cell_type": "code",
   "execution_count": null,
   "metadata": {},
   "outputs": [],
   "source": [
    "show_data_in_table(all_star_data)"
   ]
  },
  {
   "cell_type": "markdown",
   "metadata": {},
   "source": [
    "#### ![Click](http://assets.lsst.rocks/data/icons/sized/svg/pencil_16x.svg) Run the code below to sort the data by temperature.  Record the maximum and minimum temperatures:"
   ]
  },
  {
   "cell_type": "code",
   "execution_count": null,
   "metadata": {},
   "outputs": [],
   "source": [
    "# The code below sorts the star data from coolest stars to hottest stars,\n",
    "# and stores it in the new list named 'coolToHot'\n",
    "coolToHot = filter_star_data(all_star_data, SortOrder.CoolestToHottest)\n",
    "\n",
    "# Show the new list 'coolToHot' in a table.\n",
    "show_data_in_table(coolToHot)"
   ]
  },
  {
   "cell_type": "code",
   "execution_count": null,
   "metadata": {
    "autoRun": "true",
    "hideCode": "true"
   },
   "outputs": [],
   "source": [
    "astropixie_widgets.question.show_question(\"2. Record the hottest and coolest temperatures for the stars in your cluster.\")"
   ]
  },
  {
   "cell_type": "markdown",
   "metadata": {},
   "source": [
    "#### Now you will use code to define a selected set of stars on the H-R Diagram. The next box contains code that displays only the hottest stars (hottest = top 20% of cluster data ordered by temperature).\n",
    "\n",
    "#### ![Click](http://assets.lsst.rocks/data/icons/sized/svg/eye_16x.svg) Run the code and observe where the stars appear on the diagram:"
   ]
  },
  {
   "cell_type": "code",
   "execution_count": null,
   "metadata": {},
   "outputs": [],
   "source": [
    "hottestStars = filter_star_data(all_star_data, SortOrder.HottestToCoolest, percent=20)\n",
    "show_data_in_hr_diagram(hottestStars)"
   ]
  },
  {
   "cell_type": "markdown",
   "metadata": {},
   "source": [
    "#### The next box contains code that displays only the coolest stars (coolest = bottom 20% of cluster data ordered by temperature). \n",
    "\n",
    "#### ![Click](http://assets.lsst.rocks/data/icons/sized/svg/eye_16x.svg) Run the code and observe where the stars appear on the diagram:"
   ]
  },
  {
   "cell_type": "code",
   "execution_count": null,
   "metadata": {},
   "outputs": [],
   "source": [
    "coolestStars = filter_star_data(all_star_data, SortOrder.CoolestToHottest, percent=20)\n",
    "show_data_in_hr_diagram(coolestStars)"
   ]
  },
  {
   "cell_type": "markdown",
   "metadata": {},
   "source": [
    "#### ![Click](http://assets.lsst.rocks/data/icons/sized/svg/pencil_16x.svg) The next code box sorts the data by luminosity (brightness). Run it and record the maximum and minimum luminosity values:"
   ]
  },
  {
   "cell_type": "code",
   "execution_count": null,
   "metadata": {},
   "outputs": [],
   "source": [
    "# The code below sorts the star data from dimmest stars to the brightest stars,\n",
    "# and stores it in the new list named 'dimToBright'\n",
    "dimToBright = filter_star_data(all_star_data, SortOrder.DimmestToBrightest)\n",
    "\n",
    "# Show the new list 'dimToBright' in a table.\n",
    "show_data_in_table(dimToBright)"
   ]
  },
  {
   "cell_type": "code",
   "execution_count": null,
   "metadata": {
    "autoRun": "true",
    "hideCode": "true"
   },
   "outputs": [],
   "source": [
    "astropixie_widgets.question.show_question(\"3. Record the largest and smallest luminosities for the stars in your cluster.\")"
   ]
  },
  {
   "cell_type": "markdown",
   "metadata": {},
   "source": [
    "#### The next box contains code that displays only the most luminous (brightest) stars (brightest = top 20% of cluster data ordered by luminosity). \n",
    "\n",
    "#### ![Click](http://assets.lsst.rocks/data/icons/sized/svg/eye_16x.svg) Run the code and observe where the stars appear on the diagram:"
   ]
  },
  {
   "cell_type": "code",
   "execution_count": null,
   "metadata": {},
   "outputs": [],
   "source": [
    "brightestStars = filter_star_data(all_star_data, SortOrder.BrightestToDimmest, percent=20)\n",
    "show_data_in_hr_diagram(brightestStars)"
   ]
  },
  {
   "cell_type": "markdown",
   "metadata": {},
   "source": [
    "#### The next box contains code that displays only the least luminous (dimmest) stars (dimmest = bottom 20% of cluster data ordered by luminosity). \n",
    "\n",
    "#### ![Click](http://assets.lsst.rocks/data/icons/sized/svg/eye_16x.svg) Run the code and observe where the stars appear on the diagram:"
   ]
  },
  {
   "cell_type": "code",
   "execution_count": null,
   "metadata": {},
   "outputs": [],
   "source": [
    "dimmestStars = filter_star_data(all_star_data, SortOrder.DimmestToBrightest, percent=20)\n",
    "show_data_in_hr_diagram(dimmestStars)"
   ]
  },
  {
   "cell_type": "markdown",
   "metadata": {},
   "source": [
    "#### It's possible to define a set of stars that share two common characterisitics. \n",
    "\n",
    "#### ![Click](http://assets.lsst.rocks/data/icons/sized/svg/question_16x.svg) For the next questions (4a, b, c and d), answer each part by first running the code then  describing the area of the H-R Diagram where the stars appear. Answer with a combination of two of these words: *left, right, top, bottom*, and a color or colors. \n",
    "\n",
    "#### ![Click](http://assets.lsst.rocks/data/icons/sized/svg/eye_16x.svg) Run the code and observe where cool and dim stars appear on the diagram:"
   ]
  },
  {
   "cell_type": "code",
   "execution_count": null,
   "metadata": {},
   "outputs": [],
   "source": [
    "coolAndDimStars = stars_in_both(coolestStars, dimmestStars)\n",
    "show_data_in_hr_diagram(coolAndDimStars)"
   ]
  },
  {
   "cell_type": "code",
   "execution_count": null,
   "metadata": {
    "autoRun": "true",
    "hideCode": "true"
   },
   "outputs": [],
   "source": [
    "astropixie_widgets.question.show_question(\"4a. Where on the H-R diagram are cool, dim stars located? What color are these stars?\")"
   ]
  },
  {
   "cell_type": "markdown",
   "metadata": {},
   "source": [
    "#### ![Click](http://assets.lsst.rocks/data/icons/sized/svg/eye_16x.svg) Run the code and observe where cool and bright stars appear on the diagram:"
   ]
  },
  {
   "cell_type": "code",
   "execution_count": null,
   "metadata": {},
   "outputs": [],
   "source": [
    "coolAndBrightStars = stars_in_both(coolestStars, brightestStars)\n",
    "show_data_in_hr_diagram(coolAndBrightStars)"
   ]
  },
  {
   "cell_type": "code",
   "execution_count": null,
   "metadata": {
    "autoRun": "true",
    "hideCode": "true"
   },
   "outputs": [],
   "source": [
    "astropixie_widgets.question.show_question(\"4b. Where on the H-R diagram are bright, cool stars located? What color are these stars?\")"
   ]
  },
  {
   "cell_type": "markdown",
   "metadata": {},
   "source": [
    "#### ![Click](http://assets.lsst.rocks/data/icons/sized/svg/eye_16x.svg) Run the code and observe where hot and bright stars appear on the diagram:"
   ]
  },
  {
   "cell_type": "code",
   "execution_count": null,
   "metadata": {},
   "outputs": [],
   "source": [
    "hotAndBrightStars = stars_in_both(hottestStars, brightestStars)\n",
    "show_data_in_hr_diagram(hotAndBrightStars)"
   ]
  },
  {
   "cell_type": "code",
   "execution_count": null,
   "metadata": {
    "autoRun": "true",
    "hideCode": "true"
   },
   "outputs": [],
   "source": [
    "astropixie_widgets.question.show_question(\"4c. Where on the H-R diagram are hot, bright stars located? What color are these stars?\")"
   ]
  },
  {
   "cell_type": "markdown",
   "metadata": {},
   "source": [
    "#### ![Click](http://assets.lsst.rocks/data/icons/sized/svg/eye_16x.svg) Run the code and observe where hot and dim stars appear on the diagram:"
   ]
  },
  {
   "cell_type": "code",
   "execution_count": null,
   "metadata": {},
   "outputs": [],
   "source": [
    "hotAndDimStars = stars_in_both(hottestStars, dimmestStars)\n",
    "show_data_in_hr_diagram(hotAndDimStars)"
   ]
  },
  {
   "cell_type": "code",
   "execution_count": null,
   "metadata": {
    "autoRun": "true",
    "hideCode": "true"
   },
   "outputs": [],
   "source": [
    "astropixie_widgets.question.show_question(\"4d. Where on the H-R diagram are dim, hot stars located? What color are these stars?\")"
   ]
  },
  {
   "cell_type": "markdown",
   "metadata": {},
   "source": [
    "# ![Click](http://assets.lsst.rocks/data/icons/sized/svg/question_16x.svg) Discuss and report\n",
    "#### *Take a few minutes with your partner or small group to investigate and discuss the following:*"
   ]
  },
  {
   "cell_type": "code",
   "execution_count": null,
   "metadata": {
    "autoRun": "true",
    "hideCode": "true"
   },
   "outputs": [],
   "source": [
    "astropixie_widgets.question.show_question(\"5. The Sun’s surface temperature is about 6000K. Suppose a main sequence star has a temperature three times greater than the Sun’s. How much more luminous than the Sun is the hotter star? Use your diagram to estimate an answer.\")\n",
    "astropixie_widgets.question.show_question(\"6. Two stars have the same luminosity but differ in color. What physical property of the stars could explain this?\")\n",
    "astropixie_widgets.question.show_question(\"7. Two giant stars have the same luminosity. One is yellow and the other is orange. Which one is larger? Explain your reasoning.\")\n",
    "astropixie_widgets.question.show_question(\"8. What physical property of stars could explain why stars in the lower left of the H-R Diagram are dimmer than the stars in the upper left, since they are both very hot?\")"
   ]
  },
  {
   "cell_type": "markdown",
   "metadata": {},
   "source": [
    "### *Be prepared to report out and discuss your observations.*"
   ]
  },
  {
   "cell_type": "markdown",
   "metadata": {},
   "source": [
    "# ![Click](http://assets.lsst.rocks/data/icons/sized/svg/pencil_16x.svg) Summary\n"
   ]
  },
  {
   "cell_type": "code",
   "execution_count": null,
   "metadata": {
    "autoRun": "true",
    "hideCode": "true"
   },
   "outputs": [],
   "source": [
    "astropixie_widgets.question.show_question(\"9. Now that you have had a chance to discuss your observations, write a summary in the text box below that explains what you have learned about star temperatures, sizes and luminosities.\", rows=6)"
   ]
  },
  {
   "cell_type": "markdown",
   "metadata": {},
   "source": [
    "## Challenge Problem\n",
    "\n",
    "#### Use what you have learned to write code that will display only the *blue stars* in your cluster.\n",
    "\n",
    "#### ![Click](http://assets.lsst.rocks/data/icons/sized/svg/pencil_16x.svg) Write your code in the box below, and hold down SHIFT and press ENTER to run your code.  You can edit your code and run it as many times as you like."
   ]
  },
  {
   "cell_type": "code",
   "execution_count": null,
   "metadata": {},
   "outputs": [],
   "source": []
  },
  {
   "cell_type": "markdown",
   "metadata": {},
   "source": [
    "#### ![Click](http://assets.lsst.rocks/data/icons/sized/svg/question_16x.svg) Answer the next question based on the code you wrote."
   ]
  },
  {
   "cell_type": "code",
   "execution_count": null,
   "metadata": {
    "autoRun": "true",
    "hideCode": "true"
   },
   "outputs": [],
   "source": [
    "astropixie_widgets.question.show_question(\"10. What percentage (number value) did you enter to display only the blue stars in your data set?\")"
   ]
  }
 ],
 "metadata": {
  "kernelspec": {
   "display_name": "Python 3",
   "language": "python",
   "name": "python3"
  },
  "language_info": {
   "codemirror_mode": {
    "name": "ipython",
    "version": 3
   },
   "file_extension": ".py",
   "mimetype": "text/x-python",
   "name": "python",
   "nbconvert_exporter": "python",
   "pygments_lexer": "ipython3",
   "version": "3.6.5"
  }
 },
 "nbformat": 4,
 "nbformat_minor": 2
}
