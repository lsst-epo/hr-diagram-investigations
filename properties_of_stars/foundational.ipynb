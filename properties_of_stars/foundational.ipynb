{
 "cells": [
  {
   "cell_type": "markdown",
   "metadata": {
    "readOnly": "true"
   },
   "source": [
    "## Introduction and Background\n",
    "\n",
    "Today you will be using a data visualization tool called the [H-R Diagram](https://en.wikipedia.org/wiki/Hertzsprung–Russell_diagram), first developed more than a century ago by [Ejnar Hertzsprung](https://en.wikipedia.org/wiki/Ejnar_Hertzsprung) from Denmark, and [Henry Norris Russell](https://en.wikipedia.org/wiki/Henry_Norris_Russell), an American. The H-R Diagram will enable you to create your own \"window\" to the stars and explore what it can reveal about star properties such as size, temperature, and energy output.\n",
    "\n",
    "In order to accurately compare stars to each other and measure properties such as their energy outputs, it is important to account for the fact that two stars of the same brightness will look very different if one is farther away from Earth than the other. One way to address this issue is to collect data from a group of stars in a [star cluster](https://en.wikipedia.org/wiki/Star_cluster), in which all the stars are the same distance away. Today you will collect and analyze data for the stars in one cluster, which will allow you to determine the variation that exists in stellar properties. \n",
    "\n",
    "In this investigation, the term [luminosity](https://en.wikipedia.org/wiki/Luminosity) refers to the total energy output from a star per unit of time. Luminosity is typically reported as a ratio of the star's energy output compared to the energy emitted by the Sun. For example, a star with a _solar luminosity_ of \"10\" emits ten times more energy than the Sun.\n"
   ]
  },
  {
   "cell_type": "markdown",
   "metadata": {
    "readOnly": "true"
   },
   "source": [
    "# Procedure and Data\n",
    "\n",
    "First call up the information and data for your star cluster. \n",
    "*Type in the name of your cluster and press Enter:* "
   ]
  },
  {
   "cell_type": "code",
   "execution_count": null,
   "metadata": {
    "autoRun": "true",
    "hideCode": "true"
   },
   "outputs": [],
   "source": [
    "import astropixie\n",
    "import astropixie_widgets as hr\n",
    "\n",
    "hr.config.setup_notebook()\n",
    "\n",
    "cluster = astropixie.data.Berkeley20SDSS()\n",
    "shrd = hr.visual.SHRD(cluster)\n",
    "shrd.show()"
   ]
  },
  {
   "cell_type": "markdown",
   "metadata": {
    "readOnly": "true"
   },
   "source": [
    "![Click](//d38piav16dazdc.cloudfront.net/data/icons/sized/svg/eye_16x.svg) *Make your best estimate of which stars in the image belong to the cluster.*\n",
    "\n",
    "![Click](//d38piav16dazdc.cloudfront.net/data/icons/sized/svg/click_16x.svg) *Use your mouse to outline the boundary of the cluster.*\n",
    "\n",
    "You will now see all the stars you selected displayed on an H-R Diagram.\n",
    "\n",
    "![Click](//d38piav16dazdc.cloudfront.net/data/icons/sized/svg/click_16x.svg) *Use the sliders below the H-R Diagram to adjust the luminosities and temperatures that are displayed for help in answering the questions below.*"
   ]
  },
  {
   "cell_type": "markdown",
   "metadata": {
    "readOnly": "true"
   },
   "source": [
    "![Click](//d38piav16dazdc.cloudfront.net/data/icons/sized/svg/pencil_16x.svg) Hover over any star in the H-R Diagram to see its temperature and luminosity.  Use this information to answer 1 and 2 below."
   ]
  },
  {
   "cell_type": "code",
   "execution_count": null,
   "metadata": {
    "autoRun": "true",
    "hideCode": "true"
   },
   "outputs": [],
   "source": [
    "hr.question.show_question(\"1. Record the hottest and coolest temperatures for the stars in your cluster.\")\n",
    "hr.question.show_question(\"2. Record the largest and smallest luminosities for the stars in your cluster.\")"
   ]
  },
  {
   "cell_type": "markdown",
   "metadata": {
    "readOnly": "true"
   },
   "source": [
    "![Click](//d38piav16dazdc.cloudfront.net/data/icons/sized/svg/question_16x.svg) For questions 3 and 4, answer each part by describing an area of the H-R Diagram. Answer with a combination of two of these words: left, right, top, bottom.  "
   ]
  },
  {
   "cell_type": "code",
   "execution_count": null,
   "metadata": {
    "autoRun": "true",
    "hideCode": "true"
   },
   "outputs": [],
   "source": [
    "hr.question.show_question(\"3a. Where on the H-R diagram are cool, dim stars located? What color are these stars?\")\n",
    "hr.question.show_question(\"3b. Where on the H-R diagram are bright, cool stars located? What color are these stars?\")\n",
    "hr.question.show_question(\"3c. Where on the H-R diagram are hot, dim stars located? What color are these stars?\")\n",
    "hr.question.show_question(\"3d. Where on the H-R diagram are bright, hot stars located? What color are these stars?\")"
   ]
  },
  {
   "cell_type": "markdown",
   "metadata": {
    "readOnly": "true"
   },
   "source": [
    "![Click](//d38piav16dazdc.cloudfront.net/data/icons/sized/svg/eye_16x.svg) Notice that most stars occupy a region stretching from the upper left to the lower right of the diagram. This is known as the [main sequence](https://cnx.org/contents/LnN76Opl@13.153:EVgehrPG@9/The-HR-Diagram)."
   ]
  },
  {
   "cell_type": "code",
   "execution_count": null,
   "metadata": {
    "autoRun": "true",
    "hideCode": "true"
   },
   "outputs": [],
   "source": [
    "hr.question.show_question(\"4. Where on the main sequence are stars the most numerous? What color are these stars?\")"
   ]
  },
  {
   "cell_type": "markdown",
   "metadata": {
    "readOnly": "true"
   },
   "source": [
    "# ![Click](//d38piav16dazdc.cloudfront.net/data/icons/sized/svg/question_16x.svg)  Discuss and report\n",
    "#### *Take a few minutes with your partner or small group to investigate and discuss the following:*"
   ]
  },
  {
   "cell_type": "code",
   "execution_count": null,
   "metadata": {
    "autoRun": "true",
    "hideCode": "true"
   },
   "outputs": [],
   "source": [
    "hr.question.show_question(\"5. The Sun’s surface temperature is about 6000K. Suppose a main sequence star has a temperature three times greater than the Sun’s. How much more luminous than the Sun is the hotter star? Use your diagram to estimate an answer.\")\n",
    "hr.question.show_question(\"6. Two stars have the same luminosity but differ in color.  What physical property of the stars could explain this?\")\n",
    "hr.question.show_question(\"7. Two giant stars have the same luminosity. One is yellow and the other is orange. Which one is larger? Explain your reasoning.\")\n",
    "hr.question.show_question(\"8. What physical property of stars could explain why stars in the lower left of the H-R Diagram are dimmer than the stars in the upper left, since they are both very hot?\")"
   ]
  },
  {
   "cell_type": "markdown",
   "metadata": {
    "readOnly": "true"
   },
   "source": [
    "### *Be prepared to report out and discuss your observations.*"
   ]
  },
  {
   "cell_type": "markdown",
   "metadata": {
    "readOnly": "true"
   },
   "source": [
    "# ![Click](//d38piav16dazdc.cloudfront.net/data/icons/sized/svg/pencil_16x.svg) Summary"
   ]
  },
  {
   "cell_type": "code",
   "execution_count": null,
   "metadata": {
    "autoRun": "true",
    "hideCode": "true"
   },
   "outputs": [],
   "source": [
    "hr.question.show_question(\"9. Now that you have had a chance to discuss this, write a summary in the text box below that explains what you have learned about star temperatures, sizes and luminosities.\", rows=6)"
   ]
  }
 ],
 "metadata": {
  "kernelspec": {
   "display_name": "Python 3",
   "language": "python",
   "name": "python3"
  },
  "language_info": {
   "codemirror_mode": {
    "name": "ipython",
    "version": 3
   },
   "file_extension": ".py",
   "mimetype": "text/x-python",
   "name": "python",
   "nbconvert_exporter": "python",
   "pygments_lexer": "ipython3",
   "version": "3.6.5"
  }
 },
 "nbformat": 4,
 "nbformat_minor": 2
}
