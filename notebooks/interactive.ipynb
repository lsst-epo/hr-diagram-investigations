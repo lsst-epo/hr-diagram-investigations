{
 "cells": [
  {
   "cell_type": "code",
   "execution_count": null,
   "metadata": {},
   "outputs": [],
   "source": [
    "import ipyaladin.aladin_widget as ipyal\n",
    "aladin = ipyal.Aladin(target='Berkeley 20', fov=0.3, survey='P/SDSS9/color')\n",
    "aladin"
   ]
  },
  {
   "cell_type": "code",
   "execution_count": null,
   "metadata": {},
   "outputs": [],
   "source": [
    "import bokeh\n",
    "from bokeh.io import output_notebook, show, push_notebook\n",
    "output_notebook(bokeh.resources.INLINE)\n",
    "\n",
    "from hr.visual import _telescope_pointing_widget\n",
    "from hr.visual import *\n",
    "\n",
    "def hr_diagram_skyimage(cluster_name, output):\n",
    "    \"\"\"\n",
    "    \"\"\"\n",
    "    cluster = get_hr_data(cluster_name)\n",
    "    input_caption = 'Type in the name of your cluster and press Enter/Return:'\n",
    "    text_input = TextInput(value=cluster.name, title=input_caption)\n",
    "    pf = hr_diagram_figure(cluster)\n",
    "    pf_image = skyimage_figure(cluster)\n",
    "    layout = column(text_input, _telescope_pointing_widget(cluster.name),\n",
    "                    pf, sizing_mode=\"scale_width\")\n",
    "    with output:\n",
    "      h = show(layout, notebook_handle=True)\n",
    "      return h\n",
    "\n",
    "outw = widgets.Output()\n",
    "\n",
    "q1 = widgets.VBox(children=[widgets.Label(\"1.\tWhat are the ranges of star temperatures and luminosities that you observed on your H-R diagram?\"), widgets.Textarea(rows=1)])\n",
    "q1 = widgets.VBox(children=[widgets.Label(\"1.\tWhat are the ranges of star temperatures and luminosities that you observed on your H-R diagram?\"), widgets.Textarea(rows=1)])\n",
    "q2 = widgets.VBox(children=[widgets.Label(\"2.\tWhere on the H-R diagram are the stars most concentrated? What is their color?\"), widgets.Textarea(rows=1)])\n",
    "q3 = widgets.VBox(children=[widgets.Label(\"3.\tWhere on the H-R diagram are cool and dim stars located?\"), widgets.Textarea(rows=1)])\n",
    "\n",
    "# display widget!!!!\n",
    "display(widgets.HBox(children=[outw, widgets.VBox([q1, q2, q3])]))\n",
    "\n",
    "h_comm = hr_diagram_skyimage(\"berkeley20\", outw)"
   ]
  },
  {
   "cell_type": "code",
   "execution_count": null,
   "metadata": {},
   "outputs": [],
   "source": [
    "\n",
    "from bokeh.io import output_notebook, show, push_notebook\n",
    "output_notebook(bokeh.resources.INLINE)\n",
    "from bokeh.models import ColumnDataSource, Circle\n",
    "import ipywidgets as widgets\n",
    "from IPython.display import display\n",
    "\n",
    "plot = figure()\n",
    "source = ColumnDataSource(\n",
    "    data=dict(\n",
    "        x=[1],\n",
    "        y=[1],\n",
    "    )\n",
    ")\n",
    "\n",
    "circle = Circle(x=\"x\", y=\"y\", size=15, fill_color=\"blue\", fill_alpha=0.8, line_color=None)\n",
    "plot.add_glyph(source, circle)\n",
    "\n",
    "q1 = widgets.VBox(children=[widgets.Label(\"1.\tWhat are the ranges of star temperatures and luminosities that you observed on your H-R diagram?\"), widgets.Textarea(rows=1)])\n",
    "\n",
    "outw = widgets.Output()\n",
    "\n",
    "# display widget!!!!\n",
    "display(widgets.HBox(children=[outw, q1]))\n",
    "\n",
    "# plot into widget\n",
    "with outw:\n",
    "    h = show(plot, notebook_handle=True)\n"
   ]
  },
  {
   "cell_type": "code",
   "execution_count": null,
   "metadata": {},
   "outputs": [],
   "source": [
    "from ipyaladin import Aladin\n",
    "\n",
    "from ipywidgets import Layout, Box, widgets\n",
    "\n",
    "aladin = Aladin(layout=Layout(width='70%'), target='Berkeley 20', fov=0.3)\n",
    "info = widgets.HTML()\n",
    "\n",
    "\n",
    "box_layout = Layout(display='flex',\n",
    "                    flex_flow='row',\n",
    "                    align_items='stretch',\n",
    "                    width='100%')\n",
    "box = Box(children=[aladin, info], layout=box_layout)\n",
    "box"
   ]
  },
  {
   "cell_type": "code",
   "execution_count": null,
   "metadata": {},
   "outputs": [],
   "source": [
    "import requests\n",
    "import logging\n",
    "data_list = []\n",
    "def process_result(data):\n",
    "    info.value = ''\n",
    "    ra = data['ra']\n",
    "    dec = data['dec']\n",
    "    radius = min(aladin.fov / 10, 5)\n",
    "    logging.warn(ra)\n",
    "    logging.warn(dec)\n",
    "    query = \"\"\"SELECT TOP 1 main_id, ra, dec, DISTANCE(POINT('ICRS', %f, %f), POINT('ICRS', ra, dec)) as d FROM basic\n",
    "               WHERE CONTAINS(POINT('ICRS', ra, dec), CIRCLE('ICRS', %f, %f, %f))=1\n",
    "               ORDER BY d ASC\"\"\" % (ra, dec, ra, dec, aladin.fov / 10)\n",
    "    \n",
    "    r = requests.get('http://simbad.u-strasbg.fr/simbad/sim-tap/sync', params={'query': query, 'request': 'doQuery', 'lang': 'adql', 'format': 'json', 'phase': 'run'})\n",
    "    obj_name = ''\n",
    "    obj_coo = None\n",
    "    obj_data = r.json()['data']\n",
    "    if len(obj_data)==0:\n",
    "        return\n",
    "    \n",
    "    obj_name = obj_data[0][0]\n",
    "    obj_coo = [obj_data[0][1], obj_data[0][2]]\n",
    "    data_list.append(obj_data)\n",
    "    sed_img = '<img src=\"http://cdsportal.u-strasbg.fr/cgi-bin/PhotVizPreview/plot?ra=%f&dec=%f&radius_arcsec=5&w=200&h=150&point_size=4\">' % (obj_coo[0], obj_coo[1])\n",
    "    info.value =  '<h2>%s</h2><br><br>%s' % (obj_name, sed_img)\n",
    "    \n",
    "aladin.add_listener('click', process_result)\n"
   ]
  },
  {
   "cell_type": "code",
   "execution_count": null,
   "metadata": {},
   "outputs": [],
   "source": [
    "source.data = {'x':[42], 'y':[42]}\n",
    "push_notebook(handle=h)\n",
    "h.comms"
   ]
  },
  {
   "cell_type": "code",
   "execution_count": null,
   "metadata": {},
   "outputs": [],
   "source": [
    "aladin.add_table??"
   ]
  },
  {
   "cell_type": "code",
   "execution_count": null,
   "metadata": {},
   "outputs": [],
   "source": [
    "import astropy\n",
    "import healpy"
   ]
  },
  {
   "cell_type": "code",
   "execution_count": null,
   "metadata": {},
   "outputs": [],
   "source": [
    "import numpy as np\n",
    "import healpy as hp\n",
    "from math import pi\n",
    "def IndexToDeclRa(NSIDE, index):\n",
    "    theta, phi = hp.pixelfunc.pix2ang(NSIDE,index)\n",
    "    return -np.degrees(theta-pi/2.),np.degrees(math.pi*2.-phi)\n",
    "IndexToDeclRa(9, 1464772)"
   ]
  },
  {
   "cell_type": "code",
   "execution_count": null,
   "metadata": {},
   "outputs": [],
   "source": [
    "import hr\n",
    "import bokeh\n",
    "from bokeh.io import output_notebook, show, push_notebook\n",
    "output_notebook(bokeh.resources.INLINE)\n",
    "hr.visual.hr_diagram_selection('berkeley20')"
   ]
  },
  {
   "cell_type": "code",
   "execution_count": null,
   "metadata": {},
   "outputs": [],
   "source": []
  },
  {
   "cell_type": "code",
   "execution_count": null,
   "metadata": {},
   "outputs": [],
   "source": []
  }
 ],
 "metadata": {
  "kernelspec": {
   "display_name": "Python 3",
   "language": "python",
   "name": "python3"
  },
  "language_info": {
   "codemirror_mode": {
    "name": "ipython",
    "version": 3
   },
   "file_extension": ".py",
   "mimetype": "text/x-python",
   "name": "python",
   "nbconvert_exporter": "python",
   "pygments_lexer": "ipython3",
   "version": "3.6.4"
  }
 },
 "nbformat": 4,
 "nbformat_minor": 2
}
