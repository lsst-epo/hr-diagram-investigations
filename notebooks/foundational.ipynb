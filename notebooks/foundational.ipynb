{
 "cells": [
  {
   "cell_type": "markdown",
   "metadata": {},
   "source": [
    "## Introduction and Background\n",
    "What do you know about star properties, such as their size, temperature and energy output? This investigation will give you the opportunity to create your own \"window\" to the stars, and explore what the view through that window can reveal about star properties.  \n",
    "Today you will be using a data visualization tool developed more than a century ago called the [H-R Diagram](https://en.wikipedia.org/wiki/Hertzsprung–Russell_diagram). The designation H-R refers to the two astronomers who developed the first such plot: [Ejnar Hertzsprung](https://en.wikipedia.org/wiki/Ejnar_Hertzsprung) from Denmark, and [Henry Norris Russell](https://en.wikipedia.org/wiki/Henry_Norris_Russell), an American.\n",
    "\n",
    "In order to compare stars to each other, and measure properties such as their energy output, it is important to have a way to control for distance in space. Two stars of the same brightness would look very different if one was farther away from Earth than the other. One way to eliminate that problem is to collect data from a group of stars in a [star cluster](https://en.wikipedia.org/wiki/Star_cluster). By using a cluster, you can make an assumption that all of the stars are the same distance away. Today you will collect and analyze data for the stars in one cluster, and try to understand what you can learn from it. \n",
    "\n",
    "In this investigation, the term [luminosity](https://en.wikipedia.org/wiki/Luminosity) refers to the total energy output from a star. Luminosity is a ratio of the star's energy output to the Sun, so a star with a luminosity of 10 is 10 times brighter than the Sun."
   ]
  },
  {
   "cell_type": "code",
   "execution_count": 1,
   "metadata": {},
   "outputs": [
    {
     "data": {
      "text/html": [
       "<style>\n",
       "  table {margin-left: 0 !important;}\n",
       "</style>"
      ],
      "text/plain": [
       "<IPython.core.display.HTML object>"
      ]
     },
     "metadata": {},
     "output_type": "display_data"
    }
   ],
   "source": [
    "%%html\n",
    "<style>\n",
    "  table {margin-left: 0 !important;}\n",
    "</style>"
   ]
  },
  {
   "cell_type": "markdown",
   "metadata": {},
   "source": [
    "# Procedure and Data\n",
    "\n",
    "First call up all the information about your star cluster. \n",
    "\n",
    "Type in the name of your cluster and press Enter/Return:\n",
    "(put textbox here)\n",
    "\n",
    "(make all of this be responsive based on name in textbox. Fake it for Christine.)\n",
    "\n",
    "|  Telescope pointing        | Cluster name  | Image Number | Right Ascension | Declination|\n",
    "|----------------------------|---------------|--------------|-----------------|------------|\n",
    "| <img src=\"data/sphere.png\">|LSST 8433      |20221274993   |05h 32m 37s      |+00h 11m 18s|\n"
   ]
  },
  {
   "cell_type": "code",
   "execution_count": 2,
   "metadata": {},
   "outputs": [
    {
     "data": {
      "application/javascript": [
       "\n",
       "(function(root) {\n",
       "  function now() {\n",
       "    return new Date();\n",
       "  }\n",
       "\n",
       "  var force = true;\n",
       "\n",
       "  if (typeof (root._bokeh_onload_callbacks) === \"undefined\" || force === true) {\n",
       "    root._bokeh_onload_callbacks = [];\n",
       "    root._bokeh_is_loading = undefined;\n",
       "  }\n",
       "\n",
       "  var JS_MIME_TYPE = 'application/javascript';\n",
       "  var HTML_MIME_TYPE = 'text/html';\n",
       "  var EXEC_MIME_TYPE = 'application/vnd.bokehjs_exec.v0+json';\n",
       "  var CLASS_NAME = 'output_bokeh rendered_html';\n",
       "\n",
       "  /**\n",
       "   * Render data to the DOM node\n",
       "   */\n",
       "  function render(props, node) {\n",
       "    var script = document.createElement(\"script\");\n",
       "    node.appendChild(script);\n",
       "  }\n",
       "\n",
       "  /**\n",
       "   * Handle when an output is cleared or removed\n",
       "   */\n",
       "  function handleClearOutput(event, handle) {\n",
       "    var cell = handle.cell;\n",
       "\n",
       "    var id = cell.output_area._bokeh_element_id;\n",
       "    var server_id = cell.output_area._bokeh_server_id;\n",
       "    // Clean up Bokeh references\n",
       "    if (id !== undefined) {\n",
       "      Bokeh.index[id].model.document.clear();\n",
       "      delete Bokeh.index[id];\n",
       "    }\n",
       "\n",
       "    if (server_id !== undefined) {\n",
       "      // Clean up Bokeh references\n",
       "      var cmd = \"from bokeh.io.state import curstate; print(curstate().uuid_to_server['\" + server_id + \"'].get_sessions()[0].document.roots[0]._id)\";\n",
       "      cell.notebook.kernel.execute(cmd, {\n",
       "        iopub: {\n",
       "          output: function(msg) {\n",
       "            var element_id = msg.content.text.trim();\n",
       "            Bokeh.index[element_id].model.document.clear();\n",
       "            delete Bokeh.index[element_id];\n",
       "          }\n",
       "        }\n",
       "      });\n",
       "      // Destroy server and session\n",
       "      var cmd = \"import bokeh.io.notebook as ion; ion.destroy_server('\" + server_id + \"')\";\n",
       "      cell.notebook.kernel.execute(cmd);\n",
       "    }\n",
       "  }\n",
       "\n",
       "  /**\n",
       "   * Handle when a new output is added\n",
       "   */\n",
       "  function handleAddOutput(event, handle) {\n",
       "    var output_area = handle.output_area;\n",
       "    var output = handle.output;\n",
       "\n",
       "    // limit handleAddOutput to display_data with EXEC_MIME_TYPE content only\n",
       "    if ((output.output_type != \"display_data\") || (!output.data.hasOwnProperty(EXEC_MIME_TYPE))) {\n",
       "      return\n",
       "    }\n",
       "\n",
       "    var toinsert = output_area.element.find(\".\" + CLASS_NAME.split(' ')[0]);\n",
       "\n",
       "    if (output.metadata[EXEC_MIME_TYPE][\"id\"] !== undefined) {\n",
       "      toinsert[0].firstChild.textContent = output.data[JS_MIME_TYPE];\n",
       "      // store reference to embed id on output_area\n",
       "      output_area._bokeh_element_id = output.metadata[EXEC_MIME_TYPE][\"id\"];\n",
       "    }\n",
       "    if (output.metadata[EXEC_MIME_TYPE][\"server_id\"] !== undefined) {\n",
       "      var bk_div = document.createElement(\"div\");\n",
       "      bk_div.innerHTML = output.data[HTML_MIME_TYPE];\n",
       "      var script_attrs = bk_div.children[0].attributes;\n",
       "      for (var i = 0; i < script_attrs.length; i++) {\n",
       "        toinsert[0].firstChild.setAttribute(script_attrs[i].name, script_attrs[i].value);\n",
       "      }\n",
       "      // store reference to server id on output_area\n",
       "      output_area._bokeh_server_id = output.metadata[EXEC_MIME_TYPE][\"server_id\"];\n",
       "    }\n",
       "  }\n",
       "\n",
       "  function register_renderer(events, OutputArea) {\n",
       "\n",
       "    function append_mime(data, metadata, element) {\n",
       "      // create a DOM node to render to\n",
       "      var toinsert = this.create_output_subarea(\n",
       "        metadata,\n",
       "        CLASS_NAME,\n",
       "        EXEC_MIME_TYPE\n",
       "      );\n",
       "      this.keyboard_manager.register_events(toinsert);\n",
       "      // Render to node\n",
       "      var props = {data: data, metadata: metadata[EXEC_MIME_TYPE]};\n",
       "      render(props, toinsert[0]);\n",
       "      element.append(toinsert);\n",
       "      return toinsert\n",
       "    }\n",
       "\n",
       "    /* Handle when an output is cleared or removed */\n",
       "    events.on('clear_output.CodeCell', handleClearOutput);\n",
       "    events.on('delete.Cell', handleClearOutput);\n",
       "\n",
       "    /* Handle when a new output is added */\n",
       "    events.on('output_added.OutputArea', handleAddOutput);\n",
       "\n",
       "    /**\n",
       "     * Register the mime type and append_mime function with output_area\n",
       "     */\n",
       "    OutputArea.prototype.register_mime_type(EXEC_MIME_TYPE, append_mime, {\n",
       "      /* Is output safe? */\n",
       "      safe: true,\n",
       "      /* Index of renderer in `output_area.display_order` */\n",
       "      index: 0\n",
       "    });\n",
       "  }\n",
       "\n",
       "  // register the mime type if in Jupyter Notebook environment and previously unregistered\n",
       "  if (root.Jupyter !== undefined) {\n",
       "    var events = require('base/js/events');\n",
       "    var OutputArea = require('notebook/js/outputarea').OutputArea;\n",
       "\n",
       "    if (OutputArea.prototype.mime_types().indexOf(EXEC_MIME_TYPE) == -1) {\n",
       "      register_renderer(events, OutputArea);\n",
       "    }\n",
       "  }\n",
       "\n",
       "  \n",
       "  if (typeof (root._bokeh_timeout) === \"undefined\" || force === true) {\n",
       "    root._bokeh_timeout = Date.now() + 5000;\n",
       "    root._bokeh_failed_load = false;\n",
       "  }\n",
       "\n",
       "  var NB_LOAD_WARNING = {'data': {'text/html':\n",
       "     \"<div style='background-color: #fdd'>\\n\"+\n",
       "     \"<p>\\n\"+\n",
       "     \"BokehJS does not appear to have successfully loaded. If loading BokehJS from CDN, this \\n\"+\n",
       "     \"may be due to a slow or bad network connection. Possible fixes:\\n\"+\n",
       "     \"</p>\\n\"+\n",
       "     \"<ul>\\n\"+\n",
       "     \"<li>re-rerun `output_notebook()` to attempt to load from CDN again, or</li>\\n\"+\n",
       "     \"<li>use INLINE resources instead, as so:</li>\\n\"+\n",
       "     \"</ul>\\n\"+\n",
       "     \"<code>\\n\"+\n",
       "     \"from bokeh.resources import INLINE\\n\"+\n",
       "     \"output_notebook(resources=INLINE)\\n\"+\n",
       "     \"</code>\\n\"+\n",
       "     \"</div>\"}};\n",
       "\n",
       "  function display_loaded() {\n",
       "    var el = document.getElementById(null);\n",
       "    if (el != null) {\n",
       "      el.textContent = \"BokehJS is loading...\";\n",
       "    }\n",
       "    if (root.Bokeh !== undefined) {\n",
       "      if (el != null) {\n",
       "        el.textContent = \"BokehJS \" + root.Bokeh.version + \" successfully loaded.\";\n",
       "      }\n",
       "    } else if (Date.now() < root._bokeh_timeout) {\n",
       "      setTimeout(display_loaded, 100)\n",
       "    }\n",
       "  }\n",
       "\n",
       "\n",
       "  function run_callbacks() {\n",
       "    try {\n",
       "      root._bokeh_onload_callbacks.forEach(function(callback) { callback() });\n",
       "    }\n",
       "    finally {\n",
       "      delete root._bokeh_onload_callbacks\n",
       "    }\n",
       "    console.info(\"Bokeh: all callbacks have finished\");\n",
       "  }\n",
       "\n",
       "  function load_libs(js_urls, callback) {\n",
       "    root._bokeh_onload_callbacks.push(callback);\n",
       "    if (root._bokeh_is_loading > 0) {\n",
       "      console.log(\"Bokeh: BokehJS is being loaded, scheduling callback at\", now());\n",
       "      return null;\n",
       "    }\n",
       "    if (js_urls == null || js_urls.length === 0) {\n",
       "      run_callbacks();\n",
       "      return null;\n",
       "    }\n",
       "    console.log(\"Bokeh: BokehJS not loaded, scheduling load and callback at\", now());\n",
       "    root._bokeh_is_loading = js_urls.length;\n",
       "    for (var i = 0; i < js_urls.length; i++) {\n",
       "      var url = js_urls[i];\n",
       "      var s = document.createElement('script');\n",
       "      s.src = url;\n",
       "      s.async = false;\n",
       "      s.onreadystatechange = s.onload = function() {\n",
       "        root._bokeh_is_loading--;\n",
       "        if (root._bokeh_is_loading === 0) {\n",
       "          console.log(\"Bokeh: all BokehJS libraries loaded\");\n",
       "          run_callbacks()\n",
       "        }\n",
       "      };\n",
       "      s.onerror = function() {\n",
       "        console.warn(\"failed to load library \" + url);\n",
       "      };\n",
       "      console.log(\"Bokeh: injecting script tag for BokehJS library: \", url);\n",
       "      document.getElementsByTagName(\"head\")[0].appendChild(s);\n",
       "    }\n",
       "  };\n",
       "\n",
       "  var js_urls = [\"https://cdn.pydata.org/bokeh/release/bokeh-0.12.13.min.js\", \"https://cdn.pydata.org/bokeh/release/bokeh-widgets-0.12.13.min.js\", \"https://cdn.pydata.org/bokeh/release/bokeh-tables-0.12.13.min.js\", \"https://cdn.pydata.org/bokeh/release/bokeh-gl-0.12.13.min.js\"];\n",
       "\n",
       "  var inline_js = [\n",
       "    function(Bokeh) {\n",
       "      Bokeh.set_log_level(\"info\");\n",
       "    },\n",
       "    \n",
       "    function(Bokeh) {\n",
       "      \n",
       "    },\n",
       "    function(Bokeh) {\n",
       "      console.log(\"Bokeh: injecting CSS: https://cdn.pydata.org/bokeh/release/bokeh-0.12.13.min.css\");\n",
       "      Bokeh.embed.inject_css(\"https://cdn.pydata.org/bokeh/release/bokeh-0.12.13.min.css\");\n",
       "      console.log(\"Bokeh: injecting CSS: https://cdn.pydata.org/bokeh/release/bokeh-widgets-0.12.13.min.css\");\n",
       "      Bokeh.embed.inject_css(\"https://cdn.pydata.org/bokeh/release/bokeh-widgets-0.12.13.min.css\");\n",
       "      console.log(\"Bokeh: injecting CSS: https://cdn.pydata.org/bokeh/release/bokeh-tables-0.12.13.min.css\");\n",
       "      Bokeh.embed.inject_css(\"https://cdn.pydata.org/bokeh/release/bokeh-tables-0.12.13.min.css\");\n",
       "    }\n",
       "  ];\n",
       "\n",
       "  function run_inline_js() {\n",
       "    \n",
       "    if ((root.Bokeh !== undefined) || (force === true)) {\n",
       "      for (var i = 0; i < inline_js.length; i++) {\n",
       "        inline_js[i].call(root, root.Bokeh);\n",
       "      }} else if (Date.now() < root._bokeh_timeout) {\n",
       "      setTimeout(run_inline_js, 100);\n",
       "    } else if (!root._bokeh_failed_load) {\n",
       "      console.log(\"Bokeh: BokehJS failed to load within specified timeout.\");\n",
       "      root._bokeh_failed_load = true;\n",
       "    } else if (force !== true) {\n",
       "      var cell = $(document.getElementById(null)).parents('.cell').data().cell;\n",
       "      cell.output_area.append_execute_result(NB_LOAD_WARNING)\n",
       "    }\n",
       "\n",
       "  }\n",
       "\n",
       "  if (root._bokeh_is_loading === 0) {\n",
       "    console.log(\"Bokeh: BokehJS loaded, going straight to plotting\");\n",
       "    run_inline_js();\n",
       "  } else {\n",
       "    load_libs(js_urls, function() {\n",
       "      console.log(\"Bokeh: BokehJS plotting callback run at\", now());\n",
       "      run_inline_js();\n",
       "    });\n",
       "  }\n",
       "}(window));"
      ],
      "application/vnd.bokehjs_load.v0+json": "\n(function(root) {\n  function now() {\n    return new Date();\n  }\n\n  var force = true;\n\n  if (typeof (root._bokeh_onload_callbacks) === \"undefined\" || force === true) {\n    root._bokeh_onload_callbacks = [];\n    root._bokeh_is_loading = undefined;\n  }\n\n  \n\n  \n  if (typeof (root._bokeh_timeout) === \"undefined\" || force === true) {\n    root._bokeh_timeout = Date.now() + 5000;\n    root._bokeh_failed_load = false;\n  }\n\n  var NB_LOAD_WARNING = {'data': {'text/html':\n     \"<div style='background-color: #fdd'>\\n\"+\n     \"<p>\\n\"+\n     \"BokehJS does not appear to have successfully loaded. If loading BokehJS from CDN, this \\n\"+\n     \"may be due to a slow or bad network connection. Possible fixes:\\n\"+\n     \"</p>\\n\"+\n     \"<ul>\\n\"+\n     \"<li>re-rerun `output_notebook()` to attempt to load from CDN again, or</li>\\n\"+\n     \"<li>use INLINE resources instead, as so:</li>\\n\"+\n     \"</ul>\\n\"+\n     \"<code>\\n\"+\n     \"from bokeh.resources import INLINE\\n\"+\n     \"output_notebook(resources=INLINE)\\n\"+\n     \"</code>\\n\"+\n     \"</div>\"}};\n\n  function display_loaded() {\n    var el = document.getElementById(null);\n    if (el != null) {\n      el.textContent = \"BokehJS is loading...\";\n    }\n    if (root.Bokeh !== undefined) {\n      if (el != null) {\n        el.textContent = \"BokehJS \" + root.Bokeh.version + \" successfully loaded.\";\n      }\n    } else if (Date.now() < root._bokeh_timeout) {\n      setTimeout(display_loaded, 100)\n    }\n  }\n\n\n  function run_callbacks() {\n    try {\n      root._bokeh_onload_callbacks.forEach(function(callback) { callback() });\n    }\n    finally {\n      delete root._bokeh_onload_callbacks\n    }\n    console.info(\"Bokeh: all callbacks have finished\");\n  }\n\n  function load_libs(js_urls, callback) {\n    root._bokeh_onload_callbacks.push(callback);\n    if (root._bokeh_is_loading > 0) {\n      console.log(\"Bokeh: BokehJS is being loaded, scheduling callback at\", now());\n      return null;\n    }\n    if (js_urls == null || js_urls.length === 0) {\n      run_callbacks();\n      return null;\n    }\n    console.log(\"Bokeh: BokehJS not loaded, scheduling load and callback at\", now());\n    root._bokeh_is_loading = js_urls.length;\n    for (var i = 0; i < js_urls.length; i++) {\n      var url = js_urls[i];\n      var s = document.createElement('script');\n      s.src = url;\n      s.async = false;\n      s.onreadystatechange = s.onload = function() {\n        root._bokeh_is_loading--;\n        if (root._bokeh_is_loading === 0) {\n          console.log(\"Bokeh: all BokehJS libraries loaded\");\n          run_callbacks()\n        }\n      };\n      s.onerror = function() {\n        console.warn(\"failed to load library \" + url);\n      };\n      console.log(\"Bokeh: injecting script tag for BokehJS library: \", url);\n      document.getElementsByTagName(\"head\")[0].appendChild(s);\n    }\n  };\n\n  var js_urls = [\"https://cdn.pydata.org/bokeh/release/bokeh-0.12.13.min.js\", \"https://cdn.pydata.org/bokeh/release/bokeh-widgets-0.12.13.min.js\", \"https://cdn.pydata.org/bokeh/release/bokeh-tables-0.12.13.min.js\", \"https://cdn.pydata.org/bokeh/release/bokeh-gl-0.12.13.min.js\"];\n\n  var inline_js = [\n    function(Bokeh) {\n      Bokeh.set_log_level(\"info\");\n    },\n    \n    function(Bokeh) {\n      \n    },\n    function(Bokeh) {\n      console.log(\"Bokeh: injecting CSS: https://cdn.pydata.org/bokeh/release/bokeh-0.12.13.min.css\");\n      Bokeh.embed.inject_css(\"https://cdn.pydata.org/bokeh/release/bokeh-0.12.13.min.css\");\n      console.log(\"Bokeh: injecting CSS: https://cdn.pydata.org/bokeh/release/bokeh-widgets-0.12.13.min.css\");\n      Bokeh.embed.inject_css(\"https://cdn.pydata.org/bokeh/release/bokeh-widgets-0.12.13.min.css\");\n      console.log(\"Bokeh: injecting CSS: https://cdn.pydata.org/bokeh/release/bokeh-tables-0.12.13.min.css\");\n      Bokeh.embed.inject_css(\"https://cdn.pydata.org/bokeh/release/bokeh-tables-0.12.13.min.css\");\n    }\n  ];\n\n  function run_inline_js() {\n    \n    if ((root.Bokeh !== undefined) || (force === true)) {\n      for (var i = 0; i < inline_js.length; i++) {\n        inline_js[i].call(root, root.Bokeh);\n      }} else if (Date.now() < root._bokeh_timeout) {\n      setTimeout(run_inline_js, 100);\n    } else if (!root._bokeh_failed_load) {\n      console.log(\"Bokeh: BokehJS failed to load within specified timeout.\");\n      root._bokeh_failed_load = true;\n    } else if (force !== true) {\n      var cell = $(document.getElementById(null)).parents('.cell').data().cell;\n      cell.output_area.append_execute_result(NB_LOAD_WARNING)\n    }\n\n  }\n\n  if (root._bokeh_is_loading === 0) {\n    console.log(\"Bokeh: BokehJS loaded, going straight to plotting\");\n    run_inline_js();\n  } else {\n    load_libs(js_urls, function() {\n      console.log(\"Bokeh: BokehJS plotting callback run at\", now());\n      run_inline_js();\n    });\n  }\n}(window));"
     },
     "metadata": {},
     "output_type": "display_data"
    },
    {
     "data": {
      "text/html": [
       "\n",
       "<div class=\"bk-root\">\n",
       "    <div class=\"bk-plotdiv\" id=\"c8d20aad-7fbf-4c73-adb2-dfcc62f8c5f3\"></div>\n",
       "</div>"
      ]
     },
     "metadata": {},
     "output_type": "display_data"
    },
    {
     "data": {
      "application/javascript": [
       "(function(root) {\n",
       "  function embed_document(root) {\n",
       "    \n",
       "  var docs_json = {\"a8fe0d53-0b21-4cf2-ad19-16c2a4b6452d\":{\"roots\":{\"references\":[{\"attributes\":{},\"id\":\"6d346fd3-74ce-4ef8-b39e-60c3ae869dde\",\"type\":\"PanTool\"},{\"attributes\":{},\"id\":\"1c493a63-8430-4d56-9268-9f364cf17ef6\",\"type\":\"BasicTickFormatter\"},{\"attributes\":{\"children\":[{\"id\":\"b460609b-6fcd-474a-a5c5-695b0eac665c\",\"type\":\"WidgetBox\"},{\"id\":\"6fa140d5-309f-4427-adb7-d00f6a7e6f7d\",\"type\":\"Row\"}]},\"id\":\"a72353bf-8918-4ea1-8cab-a8deffd96967\",\"type\":\"Column\"},{\"attributes\":{\"children\":[{\"id\":\"172f1643-72e6-4ddd-af32-264cfddd8032\",\"type\":\"TextInput\"}]},\"id\":\"b460609b-6fcd-474a-a5c5-695b0eac665c\",\"type\":\"WidgetBox\"},{\"attributes\":{\"formatter\":{\"id\":\"1c493a63-8430-4d56-9268-9f364cf17ef6\",\"type\":\"BasicTickFormatter\"},\"plot\":{\"id\":\"0286eee2-d83c-488a-82a3-13fe5e2132d7\",\"subtype\":\"Figure\",\"type\":\"Plot\"},\"ticker\":{\"id\":\"14df9fa2-b010-4c61-b51b-92ea403f0c72\",\"type\":\"BasicTicker\"},\"visible\":false},\"id\":\"9845838c-1ac9-43de-9463-93445bd3c556\",\"type\":\"LinearAxis\"},{\"attributes\":{\"bottom_units\":\"screen\",\"fill_alpha\":{\"value\":0.5},\"fill_color\":{\"value\":\"lightgrey\"},\"left_units\":\"screen\",\"level\":\"overlay\",\"line_alpha\":{\"value\":1.0},\"line_color\":{\"value\":\"black\"},\"line_dash\":[4,4],\"line_width\":{\"value\":2},\"plot\":null,\"render_mode\":\"css\",\"right_units\":\"screen\",\"top_units\":\"screen\"},\"id\":\"53c57348-1ba1-4be9-bea6-045860b65a92\",\"type\":\"BoxAnnotation\"},{\"attributes\":{\"children\":[{\"id\":\"0286eee2-d83c-488a-82a3-13fe5e2132d7\",\"subtype\":\"Figure\",\"type\":\"Plot\"},{\"id\":\"0cc856f3-b5f4-417d-bdc2-8599b7365435\",\"subtype\":\"Figure\",\"type\":\"Plot\"}]},\"id\":\"6fa140d5-309f-4427-adb7-d00f6a7e6f7d\",\"type\":\"Row\"},{\"attributes\":{\"source\":{\"id\":\"1a3b077f-f84b-478a-8455-62f7f28dae06\",\"type\":\"ColumnDataSource\"}},\"id\":\"3b01509f-75cc-4628-9c39-c73fc7a962b4\",\"type\":\"CDSView\"},{\"attributes\":{},\"id\":\"aefb384a-693b-40f8-824f-2e86dacf8c69\",\"type\":\"HelpTool\"},{\"attributes\":{\"anchor\":\"bottom_left\",\"h\":{\"units\":\"data\",\"value\":1},\"url\":{\"field\":\"url\"},\"w\":{\"units\":\"data\",\"value\":1},\"x\":{\"value\":0},\"y\":{\"value\":0}},\"id\":\"de617335-06e1-423c-b2e0-5a7a806405b4\",\"type\":\"ImageURL\"},{\"attributes\":{\"plot\":{\"id\":\"0286eee2-d83c-488a-82a3-13fe5e2132d7\",\"subtype\":\"Figure\",\"type\":\"Plot\"},\"ticker\":{\"id\":\"b92ec469-4ec9-4c52-b5c8-24c77166450c\",\"type\":\"BasicTicker\"}},\"id\":\"923b0029-85ad-43cb-8d7e-e96a89734d56\",\"type\":\"Grid\"},{\"attributes\":{\"callback\":null},\"id\":\"d5d77b93-b5b8-46bd-89a1-3ee5b4d6788d\",\"type\":\"DataRange1d\"},{\"attributes\":{\"plot\":null,\"text\":\"\"},\"id\":\"d2753b36-bd64-47b7-821d-dbcf842ffdf3\",\"type\":\"Title\"},{\"attributes\":{\"data_source\":{\"id\":\"1a3b077f-f84b-478a-8455-62f7f28dae06\",\"type\":\"ColumnDataSource\"},\"glyph\":{\"id\":\"81d5374f-cc17-4886-86fd-b4952e428866\",\"type\":\"ImageURL\"},\"hover_glyph\":null,\"muted_glyph\":null,\"nonselection_glyph\":{\"id\":\"de617335-06e1-423c-b2e0-5a7a806405b4\",\"type\":\"ImageURL\"},\"selection_glyph\":null,\"view\":{\"id\":\"3b01509f-75cc-4628-9c39-c73fc7a962b4\",\"type\":\"CDSView\"}},\"id\":\"ab4120f5-e0c1-4a7b-9bf7-ae88a6ea3cbb\",\"type\":\"GlyphRenderer\"},{\"attributes\":{\"plot\":null,\"text\":\"berkeley20\"},\"id\":\"9b8face0-077b-4e9c-bf32-20868dd426b1\",\"type\":\"Title\"},{\"attributes\":{},\"id\":\"c1912533-d48b-4b62-98e0-76fd96271e7f\",\"type\":\"SaveTool\"},{\"attributes\":{\"overlay\":{\"id\":\"1c59931c-3ecb-43f3-8e03-968ff40ddf1d\",\"type\":\"BoxAnnotation\"}},\"id\":\"4fe8f3c9-a023-4cb8-aa06-439d8af66f09\",\"type\":\"BoxZoomTool\"},{\"attributes\":{\"active_drag\":\"auto\",\"active_inspect\":\"auto\",\"active_scroll\":\"auto\",\"active_tap\":\"auto\",\"tools\":[{\"id\":\"d05adf52-9b92-4015-8735-91c6be1fa999\",\"type\":\"PanTool\"},{\"id\":\"78ebb0e8-671c-41ea-8877-6b4aefa1a953\",\"type\":\"WheelZoomTool\"},{\"id\":\"4fe8f3c9-a023-4cb8-aa06-439d8af66f09\",\"type\":\"BoxZoomTool\"},{\"id\":\"c1912533-d48b-4b62-98e0-76fd96271e7f\",\"type\":\"SaveTool\"},{\"id\":\"8bade33c-b2b6-4bc5-9cd3-31dfefcaa184\",\"type\":\"ResetTool\"},{\"id\":\"9cf47669-46c4-4a0f-bf15-7a997eb12672\",\"type\":\"HelpTool\"}]},\"id\":\"d55c8361-604e-48d7-a11d-e320b8a8be86\",\"type\":\"Toolbar\"},{\"attributes\":{},\"id\":\"c068ba26-8f30-4b38-bbad-e85433af4fd9\",\"type\":\"SaveTool\"},{\"attributes\":{},\"id\":\"dd6aad22-7d3e-4451-aac1-a1028d1b59cc\",\"type\":\"LinearScale\"},{\"attributes\":{},\"id\":\"9332c37b-f25c-4431-adbe-277f08f936ff\",\"type\":\"LinearScale\"},{\"attributes\":{},\"id\":\"1c5f0537-0344-4e1d-a4a7-c8d1040996fd\",\"type\":\"ResetTool\"},{\"attributes\":{\"anchor\":\"bottom_left\",\"h\":{\"units\":\"data\",\"value\":1},\"url\":{\"field\":\"url\"},\"w\":{\"units\":\"data\",\"value\":1},\"x\":{\"value\":0},\"y\":{\"value\":0}},\"id\":\"81d5374f-cc17-4886-86fd-b4952e428866\",\"type\":\"ImageURL\"},{\"attributes\":{\"fill_alpha\":{\"value\":0.1},\"fill_color\":{\"value\":\"#1f77b4\"},\"line_alpha\":{\"value\":0.1},\"line_color\":{\"value\":\"#1f77b4\"},\"line_width\":{\"value\":0.5},\"x\":{\"field\":\"x\"},\"y\":{\"field\":\"y\"}},\"id\":\"8f63dc7a-2fcc-4a45-a0d8-a582fc293607\",\"type\":\"Circle\"},{\"attributes\":{},\"id\":\"704f3cca-1cdf-4e52-88ad-d22c67fa8065\",\"type\":\"LinearScale\"},{\"attributes\":{\"formatter\":{\"id\":\"f74b29b7-f555-4933-8f2e-a5e73b14bde2\",\"type\":\"BasicTickFormatter\"},\"plot\":{\"id\":\"0286eee2-d83c-488a-82a3-13fe5e2132d7\",\"subtype\":\"Figure\",\"type\":\"Plot\"},\"ticker\":{\"id\":\"b92ec469-4ec9-4c52-b5c8-24c77166450c\",\"type\":\"BasicTicker\"},\"visible\":false},\"id\":\"e358c82d-e33b-44cc-8cd5-c68c14036184\",\"type\":\"LinearAxis\"},{\"attributes\":{\"callback\":null,\"end\":-1.5153964303094085,\"start\":7.546603569690591},\"id\":\"a99f15c4-3379-41c0-9d6a-be5dfb637529\",\"type\":\"Range1d\"},{\"attributes\":{\"axis_label\":\"B-V [mag]\",\"formatter\":{\"id\":\"54ef47c3-1b30-49cf-bd73-d288947197eb\",\"type\":\"BasicTickFormatter\"},\"plot\":{\"id\":\"0cc856f3-b5f4-417d-bdc2-8599b7365435\",\"subtype\":\"Figure\",\"type\":\"Plot\"},\"ticker\":{\"id\":\"9d30a125-298d-476d-af44-4ff6215665aa\",\"type\":\"BasicTicker\"}},\"id\":\"ad43b43d-452b-4eda-a964-763e3292b9df\",\"type\":\"LinearAxis\"},{\"attributes\":{\"data_source\":{\"id\":\"a1efd154-4834-40e1-acb0-5b210ba1a616\",\"type\":\"ColumnDataSource\"},\"glyph\":{\"id\":\"a1a8945f-5f1d-44b6-b604-af5886850a9d\",\"type\":\"Circle\"},\"hover_glyph\":null,\"muted_glyph\":null,\"name\":\"cluster\",\"nonselection_glyph\":{\"id\":\"8f63dc7a-2fcc-4a45-a0d8-a582fc293607\",\"type\":\"Circle\"},\"selection_glyph\":null,\"view\":{\"id\":\"1c0ade14-f574-42b4-ae1e-6b78a8d65041\",\"type\":\"CDSView\"}},\"id\":\"34ab004b-348e-4b37-b240-233fb9d0e4e2\",\"type\":\"GlyphRenderer\"},{\"attributes\":{\"overlay\":{\"id\":\"53c57348-1ba1-4be9-bea6-045860b65a92\",\"type\":\"BoxAnnotation\"}},\"id\":\"6f0ebf93-cf27-4ebd-84b1-f7e00c068a4c\",\"type\":\"BoxZoomTool\"},{\"attributes\":{\"dimension\":1,\"plot\":{\"id\":\"0286eee2-d83c-488a-82a3-13fe5e2132d7\",\"subtype\":\"Figure\",\"type\":\"Plot\"},\"ticker\":{\"id\":\"14df9fa2-b010-4c61-b51b-92ea403f0c72\",\"type\":\"BasicTicker\"}},\"id\":\"5a05e14e-6a14-4ff8-9218-e3d859f1a725\",\"type\":\"Grid\"},{\"attributes\":{},\"id\":\"8152b95b-26cd-4e96-96cb-688afc5e9b85\",\"type\":\"LinearScale\"},{\"attributes\":{\"callback\":null,\"column_names\":[\"url\"],\"data\":{\"url\":[\"notebooks/data/b20.png\"]}},\"id\":\"1a3b077f-f84b-478a-8455-62f7f28dae06\",\"type\":\"ColumnDataSource\"},{\"attributes\":{},\"id\":\"d05adf52-9b92-4015-8735-91c6be1fa999\",\"type\":\"PanTool\"},{\"attributes\":{},\"id\":\"14df9fa2-b010-4c61-b51b-92ea403f0c72\",\"type\":\"BasicTicker\"},{\"attributes\":{\"callback\":null},\"id\":\"c1e970ea-a29d-4eb0-a933-11515e2db05a\",\"type\":\"Range1d\"},{\"attributes\":{},\"id\":\"43fba69f-c90f-4f09-8a5d-d8ca0370cbf0\",\"type\":\"WheelZoomTool\"},{\"attributes\":{},\"id\":\"aa55b431-cc57-48b4-a0e3-2cca5aeb916b\",\"type\":\"BasicTickFormatter\"},{\"attributes\":{},\"id\":\"78ebb0e8-671c-41ea-8877-6b4aefa1a953\",\"type\":\"WheelZoomTool\"},{\"attributes\":{\"active_drag\":\"auto\",\"active_inspect\":\"auto\",\"active_scroll\":\"auto\",\"active_tap\":\"auto\",\"tools\":[{\"id\":\"6d346fd3-74ce-4ef8-b39e-60c3ae869dde\",\"type\":\"PanTool\"},{\"id\":\"43fba69f-c90f-4f09-8a5d-d8ca0370cbf0\",\"type\":\"WheelZoomTool\"},{\"id\":\"6f0ebf93-cf27-4ebd-84b1-f7e00c068a4c\",\"type\":\"BoxZoomTool\"},{\"id\":\"c068ba26-8f30-4b38-bbad-e85433af4fd9\",\"type\":\"SaveTool\"},{\"id\":\"1c5f0537-0344-4e1d-a4a7-c8d1040996fd\",\"type\":\"ResetTool\"},{\"id\":\"aefb384a-693b-40f8-824f-2e86dacf8c69\",\"type\":\"HelpTool\"}]},\"id\":\"30b36824-5e58-4124-ac04-bd82ec1c0be7\",\"type\":\"Toolbar\"},{\"attributes\":{\"below\":[{\"id\":\"ad43b43d-452b-4eda-a964-763e3292b9df\",\"type\":\"LinearAxis\"}],\"left\":[{\"id\":\"b246e26a-820b-4b8d-9516-080ef2bf84ce\",\"type\":\"LinearAxis\"}],\"renderers\":[{\"id\":\"ad43b43d-452b-4eda-a964-763e3292b9df\",\"type\":\"LinearAxis\"},{\"id\":\"5eb81c01-5c96-478e-8678-1cede582ca58\",\"type\":\"Grid\"},{\"id\":\"b246e26a-820b-4b8d-9516-080ef2bf84ce\",\"type\":\"LinearAxis\"},{\"id\":\"24cba83b-7224-44b9-b003-bdee000f60fe\",\"type\":\"Grid\"},{\"id\":\"1c59931c-3ecb-43f3-8e03-968ff40ddf1d\",\"type\":\"BoxAnnotation\"},{\"id\":\"34ab004b-348e-4b37-b240-233fb9d0e4e2\",\"type\":\"GlyphRenderer\"}],\"title\":{\"id\":\"9b8face0-077b-4e9c-bf32-20868dd426b1\",\"type\":\"Title\"},\"toolbar\":{\"id\":\"d55c8361-604e-48d7-a11d-e320b8a8be86\",\"type\":\"Toolbar\"},\"x_range\":{\"id\":\"d5d77b93-b5b8-46bd-89a1-3ee5b4d6788d\",\"type\":\"DataRange1d\"},\"x_scale\":{\"id\":\"9332c37b-f25c-4431-adbe-277f08f936ff\",\"type\":\"LinearScale\"},\"y_range\":{\"id\":\"a99f15c4-3379-41c0-9d6a-be5dfb637529\",\"type\":\"Range1d\"},\"y_scale\":{\"id\":\"704f3cca-1cdf-4e52-88ad-d22c67fa8065\",\"type\":\"LinearScale\"}},\"id\":\"0cc856f3-b5f4-417d-bdc2-8599b7365435\",\"subtype\":\"Figure\",\"type\":\"Plot\"},{\"attributes\":{},\"id\":\"b92ec469-4ec9-4c52-b5c8-24c77166450c\",\"type\":\"BasicTicker\"},{\"attributes\":{},\"id\":\"9cf47669-46c4-4a0f-bf15-7a997eb12672\",\"type\":\"HelpTool\"},{\"attributes\":{\"fill_alpha\":{\"value\":0.78},\"line_alpha\":{\"value\":0.78},\"line_color\":{\"value\":\"#333333\"},\"line_width\":{\"value\":0.5},\"x\":{\"field\":\"x\"},\"y\":{\"field\":\"y\"}},\"id\":\"a1a8945f-5f1d-44b6-b604-af5886850a9d\",\"type\":\"Circle\"},{\"attributes\":{\"source\":{\"id\":\"a1efd154-4834-40e1-acb0-5b210ba1a616\",\"type\":\"ColumnDataSource\"}},\"id\":\"1c0ade14-f574-42b4-ae1e-6b78a8d65041\",\"type\":\"CDSView\"},{\"attributes\":{\"bottom_units\":\"screen\",\"fill_alpha\":{\"value\":0.5},\"fill_color\":{\"value\":\"lightgrey\"},\"left_units\":\"screen\",\"level\":\"overlay\",\"line_alpha\":{\"value\":1.0},\"line_color\":{\"value\":\"black\"},\"line_dash\":[4,4],\"line_width\":{\"value\":2},\"plot\":null,\"render_mode\":\"css\",\"right_units\":\"screen\",\"top_units\":\"screen\"},\"id\":\"1c59931c-3ecb-43f3-8e03-968ff40ddf1d\",\"type\":\"BoxAnnotation\"},{\"attributes\":{},\"id\":\"9d30a125-298d-476d-af44-4ff6215665aa\",\"type\":\"BasicTicker\"},{\"attributes\":{\"callback\":null},\"id\":\"f18aff3a-97ea-4229-a6f7-c13ab00b17fe\",\"type\":\"Range1d\"},{\"attributes\":{},\"id\":\"f74b29b7-f555-4933-8f2e-a5e73b14bde2\",\"type\":\"BasicTickFormatter\"},{\"attributes\":{\"below\":[{\"id\":\"e358c82d-e33b-44cc-8cd5-c68c14036184\",\"type\":\"LinearAxis\"}],\"left\":[{\"id\":\"9845838c-1ac9-43de-9463-93445bd3c556\",\"type\":\"LinearAxis\"}],\"renderers\":[{\"id\":\"e358c82d-e33b-44cc-8cd5-c68c14036184\",\"type\":\"LinearAxis\"},{\"id\":\"923b0029-85ad-43cb-8d7e-e96a89734d56\",\"type\":\"Grid\"},{\"id\":\"9845838c-1ac9-43de-9463-93445bd3c556\",\"type\":\"LinearAxis\"},{\"id\":\"5a05e14e-6a14-4ff8-9218-e3d859f1a725\",\"type\":\"Grid\"},{\"id\":\"53c57348-1ba1-4be9-bea6-045860b65a92\",\"type\":\"BoxAnnotation\"},{\"id\":\"ab4120f5-e0c1-4a7b-9bf7-ae88a6ea3cbb\",\"type\":\"GlyphRenderer\"}],\"title\":{\"id\":\"d2753b36-bd64-47b7-821d-dbcf842ffdf3\",\"type\":\"Title\"},\"toolbar\":{\"id\":\"30b36824-5e58-4124-ac04-bd82ec1c0be7\",\"type\":\"Toolbar\"},\"toolbar_location\":null,\"x_range\":{\"id\":\"c1e970ea-a29d-4eb0-a933-11515e2db05a\",\"type\":\"Range1d\"},\"x_scale\":{\"id\":\"dd6aad22-7d3e-4451-aac1-a1028d1b59cc\",\"type\":\"LinearScale\"},\"y_range\":{\"id\":\"f18aff3a-97ea-4229-a6f7-c13ab00b17fe\",\"type\":\"Range1d\"},\"y_scale\":{\"id\":\"8152b95b-26cd-4e96-96cb-688afc5e9b85\",\"type\":\"LinearScale\"}},\"id\":\"0286eee2-d83c-488a-82a3-13fe5e2132d7\",\"subtype\":\"Figure\",\"type\":\"Plot\"},{\"attributes\":{\"plot\":{\"id\":\"0cc856f3-b5f4-417d-bdc2-8599b7365435\",\"subtype\":\"Figure\",\"type\":\"Plot\"},\"ticker\":{\"id\":\"9d30a125-298d-476d-af44-4ff6215665aa\",\"type\":\"BasicTicker\"}},\"id\":\"5eb81c01-5c96-478e-8678-1cede582ca58\",\"type\":\"Grid\"},{\"attributes\":{},\"id\":\"54ef47c3-1b30-49cf-bd73-d288947197eb\",\"type\":\"BasicTickFormatter\"},{\"attributes\":{\"axis_label\":\"V absolute [mag]\",\"formatter\":{\"id\":\"aa55b431-cc57-48b4-a0e3-2cca5aeb916b\",\"type\":\"BasicTickFormatter\"},\"plot\":{\"id\":\"0cc856f3-b5f4-417d-bdc2-8599b7365435\",\"subtype\":\"Figure\",\"type\":\"Plot\"},\"ticker\":{\"id\":\"46614e8b-7faf-463d-83d2-7a1f2a110f3b\",\"type\":\"BasicTicker\"}},\"id\":\"b246e26a-820b-4b8d-9516-080ef2bf84ce\",\"type\":\"LinearAxis\"},{\"attributes\":{},\"id\":\"8bade33c-b2b6-4bc5-9cd3-31dfefcaa184\",\"type\":\"ResetTool\"},{\"attributes\":{},\"id\":\"46614e8b-7faf-463d-83d2-7a1f2a110f3b\",\"type\":\"BasicTicker\"},{\"attributes\":{\"dimension\":1,\"plot\":{\"id\":\"0cc856f3-b5f4-417d-bdc2-8599b7365435\",\"subtype\":\"Figure\",\"type\":\"Plot\"},\"ticker\":{\"id\":\"46614e8b-7faf-463d-83d2-7a1f2a110f3b\",\"type\":\"BasicTicker\"}},\"id\":\"24cba83b-7224-44b9-b003-bdee000f60fe\",\"type\":\"Grid\"},{\"attributes\":{\"callback\":null,\"title\":\"cluster:\",\"value\":\"berkeley20\"},\"id\":\"172f1643-72e6-4ddd-af32-264cfddd8032\",\"type\":\"TextInput\"},{\"attributes\":{\"callback\":null,\"column_names\":[\"x\",\"y\"],\"data\":{\"x\":[0.353,0.279,0.911,0.324,0.394,0.366,0.334,1.037,0.381,0.326,0.262,0.496,0.323,0.364,0.33,0.345,0.309,0.296,0.341,0.489,0.294,0.41,0.41,0.678,0.417,0.361,0.292,0.492,0.52,0.434,0.613,0.456,0.38,0.664,0.466,0.405,0.428,0.492,0.28,0.431,0.354,0.415,0.779,0.589,0.397,0.365,0.581,0.367,0.355,0.438,0.429,0.395,0.414,0.274,0.448,0.363,0.389,0.549,0.487,0.293,0.35,0.326,0.612,0.605,0.38,0.352,0.564,0.603,0.388,0.284,0.509,0.359,0.376,0.432,0.348,0.544,0.384,0.428,0.463,0.415,0.34,0.372,0.341,0.33,0.414,0.588,0.364,0.484,0.438,0.578,0.324,0.357,0.404,0.411,0.456,0.562,0.358,0.526,0.428,0.407,0.372,0.328,0.413,0.333,0.357,0.324,0.45,0.391,0.417,0.39,0.524,0.371,0.436,0.353,0.166,0.37,0.356,0.376,0.35,0.322,0.411,0.49,0.33,0.311,0.174,0.374,0.506,0.955,0.486,0.367,0.448,0.382,0.657,0.353,0.353,0.236,0.56,0.656,0.365,0.438,0.447,0.288,0.37,0.318,0.417,0.489,0.4,0.619,0.535,0.45,0.37,0.364,0.382,0.59,0.574,0.375,0.552,0.138,0.33,0.359,0.386,0.458,0.45,0.339,0.491,0.437,0.33,0.495,0.374,0.281,0.384,0.243,0.313,1.008,0.4,0.321,0.334,0.531,0.551,0.593,0.421,0.385,0.445,0.368,0.769,0.363,0.479,0.354,0.641,0.748,0.666,0.39,0.478,0.371,0.368,0.536,0.356,0.59,0.414,0.569,0.382,0.38,0.556,0.574,0.372,0.38,0.36,0.431,0.417,0.252,0.379,0.358,0.45,0.374,0.477,0.348,0.649,0.376,0.28,0.364,0.35,0.609,0.716,0.59,0.405,0.605,0.413,0.309,0.426,0.614,0.785,0.413,0.411,0.673,0.608,0.368,0.363,0.35,0.589,0.475,0.427,0.367,0.66,0.266,0.36,0.383,0.446,0.265,0.42,0.444,0.364,0.532,0.431,0.727,0.502,0.351,0.975,0.385,0.541,0.599,0.313,0.386,0.734,0.61,0.536,0.311,0.405,0.411,0.34,0.33,0.366,0.357,0.509,0.311,0.443,0.381,0.346,0.366,0.39,0.427,0.371,0.339,0.369,0.621,0.304,0.481,0.411,0.545,0.465,0.59,0.57,0.421,0.483,0.36,0.387,0.616,0.325,0.472,0.712,0.474,0.478,0.291,0.564,0.435,0.509,0.503,0.449,0.391,0.484,0.348,0.458,0.401,0.514,0.338,0.38,0.482,0.358,0.349,0.396,0.537,0.505,0.48,0.361,0.433,0.525,0.428,0.498,0.416,0.462,0.361,0.387,0.396,0.305,0.377,0.351,0.497,0.397,0.36,0.545,0.388,0.402,0.533,0.406,0.368,0.4,0.562,0.371,0.409,0.468,0.342,0.487,0.342,0.369,0.482,0.34,1.001,0.422,0.884,0.315,0.664,0.411],\"y\":[4.361603569690592,6.102603569690592,3.3126035696905927,3.177603569690591,5.12460356969059,1.6836035696905913,2.542603569690593,5.065603569690593,0.1466035696905923,4.180603569690591,5.857603569690591,5.325603569690591,3.879603569690593,4.27560356969059,5.8806035696905905,4.709603569690591,1.65060356969059,2.5296035696905914,-1.0203964303094075,6.453603569690591,-1.2653964303094085,0.3256035696905908,4.283603569690593,2.393603569690592,3.1016035696905906,4.83960356969059,5.455603569690593,6.504603569690593,5.981603569690593,5.408603569690593,7.00260356969059,6.936603569690591,0.29560356969059143,2.3916035696905933,3.6846035696905926,1.9656035696905914,5.600603569690593,3.576603569690592,3.9956035696905925,0.7166035696905908,5.142603569690591,4.805603569690591,4.42660356969059,3.0006035696905915,6.410603569690592,3.9706035696905904,4.413603569690592,1.9406035696905928,4.052603569690591,3.6246035696905903,1.9166035696905919,5.899603569690592,0.6986035696905919,6.404603569690591,6.3166035696905904,6.395603569690591,4.547603569690592,5.99660356969059,5.512603569690592,2.789603569690593,4.2186035696905915,3.608603569690592,6.725603569690593,4.955603569690593,1.8766035696905927,3.480603569690592,3.834603569690591,2.4426035696905917,4.696603569690593,2.7936035696905908,6.442603569690592,3.680603569690591,4.96760356969059,5.36860356969059,3.9606035696905924,2.573603569690592,4.15060356969059,6.847603569690593,5.757603569690593,4.8706035696905925,2.7076035696905922,4.767603569690591,3.4636035696905925,4.204603569690592,5.195603569690592,6.9346035696905926,3.8456035696905904,5.047603569690592,5.323603569690592,2.4126035696905905,4.830603569690593,4.43260356969059,5.361603569690592,5.77260356969059,5.193603569690593,2.890603569690592,4.835603569690592,6.794603569690592,3.5016035696905927,5.142603569690591,5.524603569690592,4.264603569690591,5.033603569690593,5.570603569690592,2.079603569690592,4.198603569690592,1.917603569690593,5.337603569690591,6.59560356969059,4.790603569690591,4.99960356969059,3.7556035696905905,4.614603569690592,4.68260356969059,2.86860356969059,4.739603569690592,6.24060356969059,4.312603569690593,3.762603569690592,4.070603569690592,5.503603569690592,5.985603569690591,4.15660356969059,5.267603569690591,3.0596035696905926,3.9956035696905925,0.42360356969059154,4.132603569690593,5.1846035696905926,3.6656035696905906,5.667603569690593,4.739603569690592,4.023603569690591,4.46160356969059,3.7856035696905916,2.2106035696905924,2.7186035696905915,5.325603569690591,3.3426035696905902,1.9126035696905905,6.05160356969059,1.608603569690592,3.488603569690591,4.06060356969059,4.982603569690591,5.887603569690592,5.253603569690592,6.635603569690593,3.414603569690593,3.6016035696905906,3.68260356969059,4.987603569690593,4.86560356969059,2.2936035696905908,2.857603569690591,4.442603569690592,1.7056035696905933,2.74360356969059,5.1896035696905916,4.053603569690592,2.2746035696905924,5.765603569690592,6.43860356969059,5.442603569690592,0.4066035696905921,5.145603569690591,5.645603569690591,5.599603569690592,5.145603569690591,2.3496035696905917,4.513603569690593,2.230603569690592,4.271603569690592,4.947603569690591,4.71160356969059,5.186603569690591,4.404603569690591,3.009603569690592,5.607603569690591,-0.9483964303094083,3.65060356969059,5.02260356969059,5.235603569690591,4.181603569690592,0.174603569690591,3.546603569690591,2.917603569690593,4.4636035696905925,1.5596035696905926,4.872603569690591,5.197603569690591,4.705603569690593,5.516603569690593,5.5376035696905905,4.62460356969059,2.145603569690591,4.678603569690592,2.3086035696905913,5.40660356969059,4.535603569690592,4.702603569690593,3.89760356969059,1.7276035696905918,2.821603569690593,4.24060356969059,2.2826035696905915,3.786603569690593,5.052603569690591,4.998603569690593,2.326603569690592,3.6816035696905924,4.2236035696905905,5.789603569690593,6.4956035696905925,6.609603569690593,5.102603569690592,6.541603569690592,2.3126035696905927,3.379603569690593,3.802603569690591,3.5826035696905922,5.983603569690592,0.5216035696905923,5.693603569690593,3.5486035696905933,6.97060356969059,5.665603569690591,3.0936035696905915,4.3486035696905905,1.1286035696905916,4.49660356969059,6.1846035696905926,4.090603569690591,2.80460356969059,4.37760356969059,4.226603569690591,4.8706035696905925,5.599603569690592,5.49060356969059,5.719603569690593,5.437603569690593,3.800603569690592,6.331603569690591,3.7586035696905906,4.244603569690591,3.5036035696905916,5.945603569690592,5.324603569690593,5.390603569690592,6.572603569690591,2.296603569690591,6.553603569690592,5.408603569690593,0.5306035696905909,4.169603569690592,3.856603569690593,5.238603569690591,3.49360356969059,5.03460356969059,1.1046035696905925,5.7506035696905915,5.09560356969059,3.9986035696905926,6.539603569690593,6.292603569690593,6.699603569690593,5.378603569690592,6.486603569690592,5.415603569690591,5.43260356969059,4.8806035696905905,3.8806035696905905,4.670603569690593,4.146603569690592,5.738603569690591,5.236603569690592,3.8776035696905904,3.6336035696905906,3.597603569690593,5.283603569690593,4.315603569690593,3.6896035696905916,4.320603569690592,1.376603569690591,5.367603569690592,5.5646035696905916,5.483603569690592,6.68260356969059,4.8096035696905926,6.15660356969059,2.7216035696905916,2.228603569690593,5.686603569690591,3.8866035696905907,4.9396035696905916,1.3596035696905915,5.062603569690593,5.8386035696905925,7.046603569690591,4.70860356969059,5.6206035696905925,5.443603569690593,5.5006035696905915,5.544603569690592,3.76960356969059,6.1626035696905905,6.353603569690593,5.2236035696905905,6.812603569690593,4.670603569690593,5.587603569690591,2.193603569690593,5.572603569690591,4.869603569690591,4.917603569690593,5.186603569690591,3.889603569690591,5.076603569690592,4.994603569690591,4.825603569690591,3.80760356969059,5.280603569690593,3.895603569690591,3.236603569690592,5.888603569690593,3.579603569690592,5.253603569690592,5.40360356969059,2.325603569690591,3.7856035696905916,5.02860356969059,5.18860356969059,4.165603569690591,5.392603569690591,4.651603569690591,5.293603569690591,2.2936035696905908,-1.1053964303094084,2.980603569690592,5.225603569690593,4.638603569690593,4.117603569690592,3.4426035696905917,4.641603569690593,4.92960356969059,5.350603569690593,5.793603569690591,6.556603569690592,6.945603569690592,6.751603569690593,6.295603569690593,4.187603569690593,5.2456035696905925,2.0026035696905904,3.92660356969059,3.0886035696905925,6.411603569690593,4.008603569690591,4.802603569690591,4.553603569690592,4.887603569690592]}},\"id\":\"a1efd154-4834-40e1-acb0-5b210ba1a616\",\"type\":\"ColumnDataSource\"}],\"root_ids\":[\"a72353bf-8918-4ea1-8cab-a8deffd96967\"]},\"title\":\"Bokeh Application\",\"version\":\"0.12.13\"}};\n",
       "  var render_items = [{\"docid\":\"a8fe0d53-0b21-4cf2-ad19-16c2a4b6452d\",\"elementid\":\"c8d20aad-7fbf-4c73-adb2-dfcc62f8c5f3\",\"modelid\":\"a72353bf-8918-4ea1-8cab-a8deffd96967\"}];\n",
       "  root.Bokeh.embed.embed_items_notebook(docs_json, render_items);\n",
       "\n",
       "  }\n",
       "  if (root.Bokeh !== undefined) {\n",
       "    embed_document(root);\n",
       "  } else {\n",
       "    var attempts = 0;\n",
       "    var timer = setInterval(function(root) {\n",
       "      if (root.Bokeh !== undefined) {\n",
       "        embed_document(root);\n",
       "        clearInterval(timer);\n",
       "      }\n",
       "      attempts++;\n",
       "      if (attempts > 100) {\n",
       "        console.log(\"Bokeh: ERROR: Unable to run BokehJS code because BokehJS library is missing\")\n",
       "        clearInterval(timer);\n",
       "      }\n",
       "    }, 10, root)\n",
       "  }\n",
       "})(window);"
      ],
      "application/vnd.bokehjs_exec.v0+json": ""
     },
     "metadata": {
      "application/vnd.bokehjs_exec.v0+json": {
       "id": "a72353bf-8918-4ea1-8cab-a8deffd96967"
      }
     },
     "output_type": "display_data"
    }
   ],
   "source": [
    "from bokeh.io import output_notebook\n",
    "from bokeh.plotting import show\n",
    "output_notebook(hide_banner=True)\n",
    "\n",
    "import hr\n",
    "hr.visual.hr_diagram_skyviewer(\"berkeley20\")"
   ]
  },
  {
   "cell_type": "code",
   "execution_count": 3,
   "metadata": {},
   "outputs": [
    {
     "data": {
      "application/vnd.jupyter.widget-view+json": {
       "model_id": "823b5c7ca8784e0dbb966f949f5a7c37",
       "version_major": 2,
       "version_minor": 0
      },
      "text/html": [
       "<p>Failed to display Jupyter Widget of type <code>VBox</code>.</p>\n",
       "<p>\n",
       "  If you're reading this message in the Jupyter Notebook or JupyterLab Notebook, it may mean\n",
       "  that the widgets JavaScript is still loading. If this message persists, it\n",
       "  likely means that the widgets JavaScript library is either not installed or\n",
       "  not enabled. See the <a href=\"https://ipywidgets.readthedocs.io/en/stable/user_install.html\">Jupyter\n",
       "  Widgets Documentation</a> for setup instructions.\n",
       "</p>\n",
       "<p>\n",
       "  If you're reading this message in another frontend (for example, a static\n",
       "  rendering on GitHub or <a href=\"https://nbviewer.jupyter.org/\">NBViewer</a>),\n",
       "  it may mean that your frontend doesn't currently support widgets.\n",
       "</p>\n"
      ],
      "text/plain": [
       "VBox(children=(VBox(children=(Label(value='1.\\tWhat are the ranges of star temperatures and luminosities that you observed on your H-R diagram?'), Textarea(value='', rows=1))), VBox(children=(Label(value='2.\\tWhere on the HR diagram are the stars most concentrated? What is their color?'), Textarea(value='', rows=1))), VBox(children=(Label(value='3.\\tWhere on the HR diagram are cool and dim stars located?'), Textarea(value='', rows=1))), VBox(children=(Label(value='4.\\tWhere on the HR diagram are bright and cool stars located?'), Textarea(value='', rows=1))), VBox(children=(Label(value='5.\\tWhere on the HR diagram are hot and dim stars located?'), Textarea(value='', rows=1))), VBox(children=(Label(value='6.\\tWhere on the HR diagram are bright and hot stars located?'), Textarea(value='', rows=1))), VBox(children=(HTML(value=\"<div style='line-height: 1.5'>7.\\tWhat physical property could cause the stars in the lower left of the H-R Diagram to be dimmer<br>\\tthan the stars in the upper left, since they are both very hot?</div>\"), Textarea(value='', rows=8)))))"
      ]
     },
     "metadata": {},
     "output_type": "display_data"
    }
   ],
   "source": [
    "import ipywidgets as widgets\n",
    "question1 = widgets.VBox(children=[widgets.Label(\"1.\tWhat are the ranges of star temperatures and luminosities that you observed on your H-R diagram?\"), widgets.Textarea(rows=1)])\n",
    "question2 = widgets.VBox(children=[widgets.Label(\"2.\tWhere on the HR diagram are the stars most concentrated? What is their color?\"), widgets.Textarea(rows=1)])\n",
    "question3 = widgets.VBox(children=[widgets.Label(\"3.\tWhere on the HR diagram are cool and dim stars located?\"), widgets.Textarea(rows=1)])\n",
    "question4 = widgets.VBox(children=[widgets.Label(\"4.\tWhere on the HR diagram are bright and cool stars located?\"), widgets.Textarea(rows=1)])\n",
    "question5 = widgets.VBox(children=[widgets.Label(\"5.\tWhere on the HR diagram are hot and dim stars located?\"), widgets.Textarea(rows=1)])\n",
    "question6 = widgets.VBox(children=[widgets.Label(\"6.\tWhere on the HR diagram are bright and hot stars located?\"), widgets.Textarea(rows=1)])\n",
    "question7 = widgets.VBox(children=[widgets.HTML(\n",
    "    value=\"<div style='line-height: 1.5'>\"\n",
    "          \"7.\tWhat physical property could cause the stars in the lower left of the H-R Diagram to be dimmer<br>\"\n",
    "          \"\tthan the stars in the upper left, since they are both very hot?</div>\"), widgets.Textarea(rows=8)])\n",
    "widgets.VBox([question1, question2, question3, question4, question5, question6, question7])"
   ]
  },
  {
   "cell_type": "markdown",
   "metadata": {},
   "source": [
    "# *Be prepared to report out and discuss your observations.*"
   ]
  },
  {
   "cell_type": "markdown",
   "metadata": {},
   "source": [
    "# Summary\n",
    "Now that you have had a chance to discuss this, write a summary in the text box below that explains what you have learned about star temperatures, sizes and luminosities."
   ]
  },
  {
   "cell_type": "code",
   "execution_count": 4,
   "metadata": {},
   "outputs": [
    {
     "data": {
      "application/vnd.jupyter.widget-view+json": {
       "model_id": "8460c6d6a52e4327980c108f0591b8ad",
       "version_major": 2,
       "version_minor": 0
      },
      "text/html": [
       "<p>Failed to display Jupyter Widget of type <code>VBox</code>.</p>\n",
       "<p>\n",
       "  If you're reading this message in the Jupyter Notebook or JupyterLab Notebook, it may mean\n",
       "  that the widgets JavaScript is still loading. If this message persists, it\n",
       "  likely means that the widgets JavaScript library is either not installed or\n",
       "  not enabled. See the <a href=\"https://ipywidgets.readthedocs.io/en/stable/user_install.html\">Jupyter\n",
       "  Widgets Documentation</a> for setup instructions.\n",
       "</p>\n",
       "<p>\n",
       "  If you're reading this message in another frontend (for example, a static\n",
       "  rendering on GitHub or <a href=\"https://nbviewer.jupyter.org/\">NBViewer</a>),\n",
       "  it may mean that your frontend doesn't currently support widgets.\n",
       "</p>\n"
      ],
      "text/plain": [
       "VBox(children=(Textarea(value='', rows=12), Label(value='When you are done, click Submit to send your completed notebook to your teacher.'), Button(description='Submit', style=ButtonStyle())))"
      ]
     },
     "metadata": {},
     "output_type": "display_data"
    }
   ],
   "source": [
    "widgets.VBox([widgets.Textarea(rows=12), widgets.Label(value=\"When you are done, click Submit to send your completed notebook to your teacher.\"), widgets.Button(description=\"Submit\")])"
   ]
  },
  {
   "cell_type": "code",
   "execution_count": null,
   "metadata": {},
   "outputs": [],
   "source": []
  }
 ],
 "metadata": {
  "kernelspec": {
   "display_name": "Python 3",
   "language": "python",
   "name": "python3"
  },
  "language_info": {
   "codemirror_mode": {
    "name": "ipython",
    "version": 3
   },
   "file_extension": ".py",
   "mimetype": "text/x-python",
   "name": "python",
   "nbconvert_exporter": "python",
   "pygments_lexer": "ipython3",
   "version": "3.6.3"
  }
 },
 "nbformat": 4,
 "nbformat_minor": 2
}
