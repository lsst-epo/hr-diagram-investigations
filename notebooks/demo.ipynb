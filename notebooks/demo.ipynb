{
 "cells": [
  {
   "cell_type": "code",
   "execution_count": null,
   "metadata": {},
   "outputs": [],
   "source": [
    "import ipyaladin as ipyal\n",
    "aladin= ipyal.Aladin(target='15 26 20.534 -57 02 14.74', fov=135, survey='P/Mellinger/color')\n",
    "aladin"
   ]
  },
  {
   "cell_type": "code",
   "execution_count": null,
   "metadata": {},
   "outputs": [],
   "source": [
    "aladin.add_moc_from_URL('http://datalab.noao.edu/HiPS/des_dr1/Moc.fits', {'color': 'violet', 'opacity': 0.3})"
   ]
  },
  {
   "cell_type": "code",
   "execution_count": null,
   "metadata": {},
   "outputs": [],
   "source": [
    "moc_berkeley20 = {\"10\": [5859088]} # up one nside => {\"9\":[1464772]} "
   ]
  },
  {
   "cell_type": "code",
   "execution_count": null,
   "metadata": {},
   "outputs": [],
   "source": [
    "aladin.add_moc_from_dict(moc_berkeley20, {'name': 'Berkeley 20', 'adaptativeDisplay': False})"
   ]
  },
  {
   "cell_type": "code",
   "execution_count": null,
   "metadata": {},
   "outputs": [],
   "source": [
    "aladin.target = 'Berkeley 20'"
   ]
  },
  {
   "cell_type": "code",
   "execution_count": null,
   "metadata": {},
   "outputs": [],
   "source": [
    "aladin.survey = 'P/SDSS9/color'"
   ]
  },
  {
   "cell_type": "code",
   "execution_count": null,
   "metadata": {},
   "outputs": [],
   "source": [
    "# HR Diagram selection"
   ]
  },
  {
   "cell_type": "code",
   "execution_count": null,
   "metadata": {},
   "outputs": [],
   "source": [
    "import astropixie_widgets as hr\n",
    "import bokeh\n",
    "from bokeh.io import output_notebook, show, push_notebook\n",
    "hr.setup_notebook()"
   ]
  },
  {
   "cell_type": "code",
   "execution_count": null,
   "metadata": {},
   "outputs": [],
   "source": [
    "hr.visual.hr_diagram_selection(\"berkeley20\")"
   ]
  },
  {
   "cell_type": "code",
   "execution_count": null,
   "metadata": {},
   "outputs": [],
   "source": [
    "import ipyaladin as ipyal\n",
    "from astroquery.simbad import Simbad\n",
    "import astropy.units as u\n",
    "\n",
    "Simbad.SIMBAD_URL = 'http://simbad.harvard.edu/simbad/sim-script'\n",
    "table = Simbad.query_region(\"berkeley20\", radius=0.04 * u.deg)\n",
    "table"
   ]
  },
  {
   "cell_type": "code",
   "execution_count": null,
   "metadata": {},
   "outputs": [],
   "source": [
    "aladin= ipyal.Aladin(fov= 0.10, target= 'berkeley20', survey='P/SDSS9/color')\n",
    "aladin"
   ]
  },
  {
   "cell_type": "code",
   "execution_count": null,
   "metadata": {},
   "outputs": [],
   "source": []
  }
 ],
 "metadata": {
  "kernelspec": {
   "display_name": "Python 3",
   "language": "python",
   "name": "python3"
  },
  "language_info": {
   "codemirror_mode": {
    "name": "ipython",
    "version": 3
   },
   "file_extension": ".py",
   "mimetype": "text/x-python",
   "name": "python",
   "nbconvert_exporter": "python",
   "pygments_lexer": "ipython3",
   "version": "3.6.4"
  }
 },
 "nbformat": 4,
 "nbformat_minor": 2
}
