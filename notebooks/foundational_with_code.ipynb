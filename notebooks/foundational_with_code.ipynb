{
 "cells": [
  {
   "cell_type": "markdown",
   "metadata": {},
   "source": [
    "## Instructions\n",
    "\n",
    "*To start your investigation, click \"Run\" from the menu bar, then select \"Run All Cells\"*"
   ]
  },
  {
   "cell_type": "markdown",
   "metadata": {},
   "source": [
    "## Introduction and Background\n",
    "What do you know about star properties, such as their size, temperature and energy output? This investigation will give you the opportunity to create your own \"window\" to the stars, and explore what the view through that window can reveal about star properties.  \n",
    "Today you will be using a data visualization tool developed more than a century ago called the [H-R Diagram](https://en.wikipedia.org/wiki/Hertzsprung–Russell_diagram). The designation H-R refers to the two astronomers who developed the first such plot: [Ejnar Hertzsprung](https://en.wikipedia.org/wiki/Ejnar_Hertzsprung) from Denmark, and [Henry Norris Russell](https://en.wikipedia.org/wiki/Henry_Norris_Russell), an American.\n",
    "\n",
    "In order to compare stars to each other, and measure properties such as their energy output, it is important to have a way to control for distance in space. Two stars of the same brightness would look very different if one was farther away from Earth than the other. One way to eliminate that problem is to collect data from a group of stars in a [star cluster](https://en.wikipedia.org/wiki/Star_cluster). By using a cluster, you can make an assumption that all of the stars are the same distance away. Today you will collect and analyze data for the stars in one cluster, and try to understand what you can learn from it. \n",
    "\n",
    "In this investigation, the term [luminosity](https://en.wikipedia.org/wiki/Luminosity) refers to the total energy output from a star. Luminosity is a ratio of the star's energy output to the Sun, so a star with a luminosity of 10 solar units is 10 times brighter than the Sun."
   ]
  },
  {
   "cell_type": "markdown",
   "metadata": {},
   "source": [
    "# Procedure and Data\n",
    "\n",
    "First call up all the information about your star cluster. "
   ]
  },
  {
   "cell_type": "code",
   "execution_count": null,
   "metadata": {},
   "outputs": [],
   "source": [
    "from bokeh.io import output_notebook\n",
    "from bokeh.plotting import show\n",
    "output_notebook(hide_banner=True)\n",
    "\n",
    "import hr\n",
    "from hr.data import pprint  # pprint is an abbreviation for pretty print.\n",
    "hr.visual.hr_diagram_skyimage(\"berkeley20\")"
   ]
  },
  {
   "cell_type": "markdown",
   "metadata": {},
   "source": [
    "Can you visualize which of these stars might belong to the cluster?\n",
    "\n",
    "*Use your mouse to draw a closed polygon that outlines the boundaries of the cluster. Make your best estimate of where these boundaries exist.*\n",
    "\n",
    "*Click on one of the stars in the cluster. You will see it highlighted on the H-R Diagram. Now try clicking on a star on the diagram, and find it in the cluster.*"
   ]
  },
  {
   "cell_type": "markdown",
   "metadata": {},
   "source": [
    "You will now begin to work with code to define the characteristics of the stars in the cluster.  The cell below calls up all data in the cluster and displays it as a data table."
   ]
  },
  {
   "cell_type": "code",
   "execution_count": null,
   "metadata": {},
   "outputs": [],
   "source": [
    "all_star_data = hr.science.table(hr.data.Berkeley20())\n",
    "total_number_of_stars = len(all_star_data)\n",
    "(x_range, y_range) = hr.visual.calculate_diagram_ranges(all_star_data)\n",
    "pprint(all_star_data)"
   ]
  },
  {
   "cell_type": "markdown",
   "metadata": {},
   "source": [
    "The cell below sorts the data by temperature values. Run the command and record the maximum and minimum temperatures:"
   ]
  },
  {
   "cell_type": "code",
   "execution_count": null,
   "metadata": {},
   "outputs": [],
   "source": [
    "import numpy\n",
    "ordered_by_temperature = numpy.sort(all_star_data, axis=None, order='temp')\n",
    "pprint(ordered_by_temperature)"
   ]
  },
  {
   "cell_type": "markdown",
   "metadata": {},
   "source": [
    "The next cell below sorts the data by luminosity (brightness). Run it and record the maximum and minimum luminosity values:"
   ]
  },
  {
   "cell_type": "code",
   "execution_count": null,
   "metadata": {},
   "outputs": [],
   "source": [
    "ordered_by_luminosity = numpy.sort(all_star_data, axis=None, order='lum')\n",
    "pprint(ordered_by_luminosity)"
   ]
  },
  {
   "cell_type": "markdown",
   "metadata": {},
   "source": [
    "Now you will use code to display the stars on an H-R Diagram. The next set of commands displays the (top 15%) hottest stars. Run it, and observe where the stars appear on the diagram: "
   ]
  },
  {
   "cell_type": "code",
   "execution_count": null,
   "metadata": {},
   "outputs": [],
   "source": [
    "number_of_hottest_stars = int(total_number_of_stars * 0.85)\n",
    "hottest_stars = ordered_by_temperature[number_of_hottest_stars:total_number_of_stars]\n",
    "hr.visual.hr_diagram_from_data(hottest_stars, x_range, y_range)"
   ]
  },
  {
   "cell_type": "markdown",
   "metadata": {},
   "source": [
    "Now change the code to display where the coolest stars are located, and run the cell: "
   ]
  },
  {
   "cell_type": "code",
   "execution_count": null,
   "metadata": {},
   "outputs": [],
   "source": [
    "number_of_coolest_stars = int(total_number_of_stars * 0.15)\n",
    "coolest_stars = ordered_by_temperature[0:number_of_coolest_stars]\n",
    "hr.visual.hr_diagram_from_data(coolest_stars, x_range, y_range)"
   ]
  },
  {
   "cell_type": "markdown",
   "metadata": {},
   "source": [
    "The next cell displays the top 15% most luminous (brightest) stars. Run the cell and observe where the stars appear on the diagram:"
   ]
  },
  {
   "cell_type": "code",
   "execution_count": null,
   "metadata": {},
   "outputs": [],
   "source": [
    "number_of_bright_stars = int(total_number_of_stars * 0.85)\n",
    "brightest_stars = ordered_by_luminosity[number_of_bright_stars:total_number_of_stars]\n",
    "hr.visual.hr_diagram_from_data(brightest_stars, x_range, y_range)"
   ]
  },
  {
   "cell_type": "markdown",
   "metadata": {},
   "source": [
    "The next cell displays the bottom 15% least luminous (dimmest) stars. Run the cell and observe where the stars appear on the diagram:"
   ]
  },
  {
   "cell_type": "code",
   "execution_count": null,
   "metadata": {},
   "outputs": [],
   "source": [
    "number_of_dim_stars = int(total_number_of_stars * 0.15)\n",
    "dimmest_stars = ordered_by_luminosity[0:number_of_dim_stars]\n",
    "hr.visual.hr_diagram_from_data(dimmest_stars, x_range, y_range)"
   ]
  },
  {
   "cell_type": "markdown",
   "metadata": {},
   "source": [
    "Now compose a command to display the set of stars that are both cool and dim:"
   ]
  },
  {
   "cell_type": "code",
   "execution_count": null,
   "metadata": {},
   "outputs": [],
   "source": [
    "cool_and_dim_stars = numpy.intersect1d(coolest_stars, dimmest_stars)\n",
    "hr.visual.hr_diagram_from_data(cool_and_dim_stars, x_range, y_range)"
   ]
  },
  {
   "cell_type": "markdown",
   "metadata": {},
   "source": [
    "Display the set of stars that are both cool and bright:"
   ]
  },
  {
   "cell_type": "code",
   "execution_count": null,
   "metadata": {},
   "outputs": [],
   "source": [
    "cool_and_bright_stars = numpy.intersect1d(coolest_stars, brightest_stars)\n",
    "hr.visual.hr_diagram_from_data(cool_and_bright_stars, x_range, y_range)"
   ]
  },
  {
   "cell_type": "markdown",
   "metadata": {},
   "source": [
    "Display the set of stars that are both hot and bright: "
   ]
  },
  {
   "cell_type": "code",
   "execution_count": null,
   "metadata": {},
   "outputs": [],
   "source": [
    "hot_and_bright_stars = numpy.intersect1d(hottest_stars, brightest_stars)\n",
    "hr.visual.hr_diagram_from_data(hot_and_bright_stars, x_range, y_range)"
   ]
  },
  {
   "cell_type": "markdown",
   "metadata": {},
   "source": [
    "Display the set of stars that are both hot and dim:"
   ]
  },
  {
   "cell_type": "code",
   "execution_count": null,
   "metadata": {},
   "outputs": [],
   "source": [
    "hot_and_dim_stars = numpy.intersect1d(hottest_stars, dimmest_stars)\n",
    "hr.visual.hr_diagram_from_data(hot_and_dim_stars, x_range, y_range)"
   ]
  },
  {
   "cell_type": "markdown",
   "metadata": {},
   "source": [
    "Now display the entire set of stars: "
   ]
  },
  {
   "cell_type": "code",
   "execution_count": null,
   "metadata": {},
   "outputs": [],
   "source": [
    "hr.visual.hr_diagram_from_data(all_star_data.flatten(), x_range, y_range)"
   ]
  },
  {
   "cell_type": "markdown",
   "metadata": {},
   "source": [
    "# Discuss and report"
   ]
  },
  {
   "cell_type": "code",
   "execution_count": null,
   "metadata": {},
   "outputs": [],
   "source": [
    "import ipywidgets as widgets\n",
    "question1 = widgets.VBox(children=[widgets.Label(\"1.\tWhat are the ranges of star temperatures and luminosities that you observed on your H-R diagram?\"), widgets.Textarea(rows=1)])\n",
    "question2 = widgets.VBox(children=[widgets.Label(\"2.\tWhere on the H-R diagram are the stars most concentrated? What is their color?\"), widgets.Textarea(rows=1)])\n",
    "question3 = widgets.VBox(children=[widgets.Label(\"3.\tWhere on the H-R diagram are cool and dim stars located?\"), widgets.Textarea(rows=1)])\n",
    "question4 = widgets.VBox(children=[widgets.Label(\"4.\tWhere on the H-R diagram are bright and cool stars located?\"), widgets.Textarea(rows=1)])\n",
    "question5 = widgets.VBox(children=[widgets.Label(\"5.\tWhere on the H-R diagram are hot and dim stars located?\"), widgets.Textarea(rows=1)])\n",
    "question6 = widgets.VBox(children=[widgets.Label(\"6.\tWhere on the H-R diagram are bright and hot stars located?\"), widgets.Textarea(rows=1)])\n",
    "question7 = widgets.VBox(children=[widgets.HTML(\n",
    "    value=\"<div style='line-height: 1.5'>\"\n",
    "          \"7.\tWhat physical property could cause the stars in the lower left of the H-R Diagram to be dimmer<br>\"\n",
    "          \"\tthan the stars in the upper left, since they are both very hot?</div>\"), widgets.Textarea(rows=8)])\n",
    "widgets.VBox([question1, question2, question3, question4, question5, question6, question7])"
   ]
  },
  {
   "cell_type": "markdown",
   "metadata": {},
   "source": [
    "### *Be prepared to report out and discuss your observations.*"
   ]
  },
  {
   "cell_type": "markdown",
   "metadata": {},
   "source": [
    "# Summary\n",
    "Now that you have had a chance to discuss this, write a summary in the text box below that explains what you have learned about star temperatures, sizes and luminosities."
   ]
  },
  {
   "cell_type": "code",
   "execution_count": null,
   "metadata": {},
   "outputs": [],
   "source": [
    "import ipywidgets as widgets\n",
    "widgets.VBox([widgets.Textarea(rows=12), widgets.Label(value=\"When you are done, click Submit to send your completed notebook to your teacher.\"), widgets.Button(description=\"Submit\")])"
   ]
  }
 ],
 "metadata": {
  "kernelspec": {
   "display_name": "Python 3",
   "language": "python",
   "name": "python3"
  },
  "language_info": {
   "codemirror_mode": {
    "name": "ipython",
    "version": 3
   },
   "file_extension": ".py",
   "mimetype": "text/x-python",
   "name": "python",
   "nbconvert_exporter": "python",
   "pygments_lexer": "ipython3",
   "version": "3.6.3"
  }
 },
 "nbformat": 4,
 "nbformat_minor": 2
}
